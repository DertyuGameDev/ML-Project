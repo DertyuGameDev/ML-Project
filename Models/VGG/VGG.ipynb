{
 "cells": [
  {
   "cell_type": "code",
   "execution_count": 1,
   "metadata": {},
   "outputs": [],
   "source": [
    "# Подключаем необходимые библиотеки\n",
    "import torch\n",
    "import torch.nn as nn\n",
    "import torch.optim as optim\n",
    "from torchvision import transforms\n",
    "from torch.utils.data import DataLoader, Dataset, random_split\n",
    "from sklearn.metrics import accuracy_score, precision_score, recall_score, f1_score\n",
    "from torchsummary import summary\n",
    "from torchvision.transforms.v2 import ToDtype, ToTensor\n",
    "from torchviz import make_dot\n",
    "from torchvision import models\n",
    "from tqdm import tqdm\n",
    "from torch.optim.lr_scheduler import ReduceLROnPlateau\n",
    "from PIL import Image \n",
    "\n",
    "import matplotlib.pyplot as plt\n",
    "import os\n",
    "import pandas as pd"
   ]
  },
  {
   "cell_type": "code",
   "execution_count": 2,
   "metadata": {},
   "outputs": [
    {
     "name": "stdout",
     "output_type": "stream",
     "text": [
      "cpu\n"
     ]
    }
   ],
   "source": [
    "# Определяем гиперпараметры\n",
    "\n",
    "batch_size = 32\n",
    "num_epochs = 75\n",
    "lr = 0.001\n",
    "device = \"cpu\"\n",
    "\n",
    "# Для transform\n",
    "\n",
    "size = (64, 64)\n",
    "\n",
    "\n",
    "if torch.cuda.is_available():\n",
    "    device = torch.cuda\n",
    "\n",
    "# cuda0 = torch.device('cuda')\n",
    "\n",
    "print(device)\n",
    "# print(cuda0)"
   ]
  },
  {
   "cell_type": "code",
   "execution_count": 3,
   "metadata": {},
   "outputs": [
    {
     "name": "stdout",
     "output_type": "stream",
     "text": [
      "./human_poses_data\n"
     ]
    },
    {
     "data": {
      "text/plain": [
       "18"
      ]
     },
     "execution_count": 3,
     "metadata": {},
     "output_type": "execute_result"
    }
   ],
   "source": [
    "# Путь к данным\n",
    "\n",
    "data_dir = \"./human_poses_data\"\n",
    "train_dir = os.path.join(data_dir, \"img_train\")\n",
    "test_dir = os.path.join(data_dir, \"img_test\")\n",
    "train_labels_path = os.path.join(data_dir, \"train_answers.csv\")\n",
    "\n",
    "global_img_train_path = 'E:\\ЯНДЕКС\\Specializtaion project ML\\ML-Project\\human_poses_data\\img_train'\n",
    "\n",
    "# Чтение файла с метками\n",
    "train_labels = pd.read_csv(train_labels_path)\n",
    "\n",
    "print(data_dir)\n",
    "train_labels['target_feature'].max()\n"
   ]
  },
  {
   "cell_type": "code",
   "execution_count": 4,
   "metadata": {},
   "outputs": [
    {
     "data": {
      "text/html": [
       "<div>\n",
       "<style scoped>\n",
       "    .dataframe tbody tr th:only-of-type {\n",
       "        vertical-align: middle;\n",
       "    }\n",
       "\n",
       "    .dataframe tbody tr th {\n",
       "        vertical-align: top;\n",
       "    }\n",
       "\n",
       "    .dataframe thead th {\n",
       "        text-align: right;\n",
       "    }\n",
       "</style>\n",
       "<table border=\"1\" class=\"dataframe\">\n",
       "  <thead>\n",
       "    <tr style=\"text-align: right;\">\n",
       "      <th></th>\n",
       "      <th>img_id</th>\n",
       "      <th>target_feature</th>\n",
       "    </tr>\n",
       "  </thead>\n",
       "  <tbody>\n",
       "    <tr>\n",
       "      <th>0</th>\n",
       "      <td>17363</td>\n",
       "      <td>2</td>\n",
       "    </tr>\n",
       "    <tr>\n",
       "      <th>1</th>\n",
       "      <td>8612</td>\n",
       "      <td>5</td>\n",
       "    </tr>\n",
       "    <tr>\n",
       "      <th>2</th>\n",
       "      <td>8244</td>\n",
       "      <td>0</td>\n",
       "    </tr>\n",
       "    <tr>\n",
       "      <th>3</th>\n",
       "      <td>9264</td>\n",
       "      <td>0</td>\n",
       "    </tr>\n",
       "    <tr>\n",
       "      <th>4</th>\n",
       "      <td>5382</td>\n",
       "      <td>6</td>\n",
       "    </tr>\n",
       "    <tr>\n",
       "      <th>...</th>\n",
       "      <td>...</td>\n",
       "      <td>...</td>\n",
       "    </tr>\n",
       "    <tr>\n",
       "      <th>12362</th>\n",
       "      <td>11503</td>\n",
       "      <td>4</td>\n",
       "    </tr>\n",
       "    <tr>\n",
       "      <th>12363</th>\n",
       "      <td>12201</td>\n",
       "      <td>6</td>\n",
       "    </tr>\n",
       "    <tr>\n",
       "      <th>12364</th>\n",
       "      <td>5489</td>\n",
       "      <td>3</td>\n",
       "    </tr>\n",
       "    <tr>\n",
       "      <th>12365</th>\n",
       "      <td>883</td>\n",
       "      <td>5</td>\n",
       "    </tr>\n",
       "    <tr>\n",
       "      <th>12366</th>\n",
       "      <td>16116</td>\n",
       "      <td>8</td>\n",
       "    </tr>\n",
       "  </tbody>\n",
       "</table>\n",
       "<p>12367 rows × 2 columns</p>\n",
       "</div>"
      ],
      "text/plain": [
       "       img_id  target_feature\n",
       "0       17363               2\n",
       "1        8612               5\n",
       "2        8244               0\n",
       "3        9264               0\n",
       "4        5382               6\n",
       "...       ...             ...\n",
       "12362   11503               4\n",
       "12363   12201               6\n",
       "12364    5489               3\n",
       "12365     883               5\n",
       "12366   16116               8\n",
       "\n",
       "[12367 rows x 2 columns]"
      ]
     },
     "execution_count": 4,
     "metadata": {},
     "output_type": "execute_result"
    }
   ],
   "source": [
    "train_labels"
   ]
  },
  {
   "cell_type": "markdown",
   "metadata": {},
   "source": [
    "Добавим новые функции для сохранения чекпоинтов и модели.\n",
    "\n",
    "[Saving and Loading Models](https://pytorch.org/tutorials/beginner/saving_loading_models.html)"
   ]
  },
  {
   "cell_type": "code",
   "execution_count": 5,
   "metadata": {},
   "outputs": [],
   "source": [
    "# Добавляем новые функции для сохранения чекпоинтов\n",
    "\n",
    "def save_checkpoint(model, optimizer, epoch, loss, filename=\"checkpoint.pth\"):\n",
    "    \"\"\"Сохраняет чекпоинт модели и оптимизатора.\"\"\"\n",
    "    checkpoint = {\n",
    "        \"model_state_dict\": model.state_dict(),\n",
    "        \"optimizer_state_dict\": optimizer.state_dict(),\n",
    "        \"epoch\": epoch,\n",
    "        \"loss\": loss,\n",
    "    }\n",
    "    torch.save(checkpoint, filename)\n",
    "    print(f\"Checkpoint saved: {filename}, epoch {epoch}, loss {loss:.4f}\")\n",
    "\n",
    "def load_checkpoint(model, optimizer, filename=\"checkpoint.pth\"):\n",
    "    \"\"\"Загружает чекпоинт модели и оптимизатора.\"\"\"\n",
    "    checkpoint = torch.load(filename)\n",
    "    model.load_state_dict(checkpoint[\"model_state_dict\"])\n",
    "    optimizer.load_state_dict(checkpoint[\"optimizer_state_dict\"])\n",
    "    epoch = checkpoint[\"epoch\"]\n",
    "    loss = checkpoint[\"loss\"]\n",
    "    print(f\"Checkpoint loaded: {filename}, epoch {epoch}, loss {loss:.4f}\")\n",
    "    return epoch, loss"
   ]
  },
  {
   "cell_type": "code",
   "execution_count": 15,
   "metadata": {},
   "outputs": [],
   "source": [
    "# Произведем пребразования над данными для последующей их передачи в модель\n",
    "\n",
    "# transform_train = transforms.Compose([\n",
    "#     transforms.Resize(size=size), # Уменьшаем и приводим изображения к одному размеру\n",
    "#     transforms.ToTensor(),\n",
    "#     transforms.Normalize(mean=[0.5, 0.5, 0.5], std=[0.5, 0.5, 0.5])\n",
    "# ])\n",
    "\n",
    "# transform_test = transforms.Compose([\n",
    "#     transforms.Resize(size=size), # Уменьшаем и приводим изображения к одному размеру\n",
    "#     transforms.ToTensor(),\n",
    "#     transforms.Normalize(mean=[0.5, 0.5, 0.5], std=[0.5, 0.5, 0.5])\n",
    "# ])\n",
    "\n",
    "# transform = transforms.Compose([\n",
    "#     transforms.Resize(size=size),\n",
    "#     transforms.RandomHorizontalFlip(),\n",
    "#     transforms.RandomRotation(15),\n",
    "#     transforms.ColorJitter(brightness=0.2, contrast=0.2, saturation=0.2, hue=0.1),\n",
    "#     transforms.RandomAffine(degrees=0, translate=(0.1, 0.1)),\n",
    "#     transforms.ToTensor(),\n",
    "#     ToDtype(torch.float32, scale=True),\n",
    "#     transforms.Normalize((0.5, 0.5, 0.5), (0.5, 0.5, 0.5))\n",
    "# ])\n",
    "\n",
    "train_transform = transforms.Compose([\n",
    "    transforms.Resize(size=size), \n",
    "    transforms.RandomRotation(3),\n",
    "    transforms.ColorJitter(brightness=1.5, saturation=0.2),\n",
    "    transforms.RandomApply([transforms.RandomAffine(degrees=2, translate=(0.1, 0.1))]),\n",
    "    transforms.RandomApply([transforms.GaussianBlur(kernel_size=1, sigma=(0.1, 2)), transforms.RandomGrayscale()]),\n",
    "    transforms.RandomHorizontalFlip(),\n",
    "    transforms.RandomChoice([transforms.RandomAdjustSharpness(1), transforms.RandAugment()]),\n",
    "    transforms.ToTensor(),\n",
    "    ToDtype(torch.float32, scale=True),\n",
    "    transforms.Normalize((0.5, 0.5, 0.5), (0.5, 0.5, 0.5))\n",
    "])\n",
    "\n",
    "train_transform_for_visualize = transforms.Compose([\n",
    "    transforms.Resize(size=size),\n",
    "    transforms.ToTensor(),\n",
    "    transforms.Normalize((0.5, 0.5, 0.5), (0.5, 0.5, 0.5))\n",
    "])\n",
    "\n",
    "test_val_transform = transforms.Compose([\n",
    "    transforms.Resize(size=size),\n",
    "    transforms.ToTensor(),\n",
    "    transforms.Normalize((0.5, 0.5, 0.5), (0.5, 0.5, 0.5))\n",
    "])"
   ]
  },
  {
   "cell_type": "code",
   "execution_count": 8,
   "metadata": {},
   "outputs": [],
   "source": [
    "# Определим удобный класс Dataset для хранения данных\n",
    "\n",
    "class HumanPoseDataset(Dataset):\n",
    "    def __init__(self, img_dir, labels_df=None, transform=None):\n",
    "        self.img_dir = img_dir\n",
    "        self.labels_df = labels_df\n",
    "        self.transform = transform\n",
    "        self.img_files = os.listdir(self.img_dir)\n",
    "\n",
    "    def __len__(self):\n",
    "        return len(self.labels_df) if self.labels_df is not None else len(os.listdir(self.img_dir))\n",
    "    \n",
    "    def __getitem__(self, index):\n",
    "        img_name = self.img_files[index]\n",
    "        img_path = os.path.join(self.img_dir, img_name)\n",
    "        image = Image.open(img_path).convert(\"RGB\")\n",
    "\n",
    "        if self.transform:\n",
    "            image = self.transform(image)\n",
    "\n",
    "        if self.labels_df is not None:\n",
    "            img_id = int(os.path.splitext(img_name)[0])\n",
    "            matching_rows = self.labels_df.loc[self.labels_df['img_id'] == img_id, \"target_feature\"]\n",
    "            if not matching_rows.empty:\n",
    "                label = matching_rows.values[0]\n",
    "                return image, int(label)\n",
    "            \n",
    "        else:\n",
    "            return image, img_name\n"
   ]
  },
  {
   "cell_type": "code",
   "execution_count": 9,
   "metadata": {},
   "outputs": [],
   "source": [
    "# Создаем DataLoader\n",
    "\n",
    "train_dataset = HumanPoseDataset(global_img_train_path, labels_df=train_labels, transform=train_transform)\n",
    "train_dataset_view = HumanPoseDataset(global_img_train_path, labels_df=train_labels, transform=train_transform_for_visualize)\n",
    "test_dataset = HumanPoseDataset(test_dir, transform=test_val_transform)\n",
    "\n",
    "# Разделяем обучающий датасет на валидационную и обучающую выборки\n",
    "val_size = int(0.2 * len(train_dataset))\n",
    "train_size = len(train_dataset) - val_size\n",
    "train_data, val_data = random_split(train_dataset, [train_size, val_size])\n",
    "\n",
    "train_loader = DataLoader(train_data, batch_size=batch_size, shuffle=True)\n",
    "val_loader = DataLoader(val_data, batch_size=batch_size, shuffle=False)\n",
    "test_loader = DataLoader(test_dataset, batch_size=batch_size, shuffle=False)"
   ]
  },
  {
   "cell_type": "code",
   "execution_count": 19,
   "metadata": {},
   "outputs": [],
   "source": [
    "# Создадим класс EarlyStopping для контроля переобучения\n",
    "\n",
    "class EarlyStopping:\n",
    "    def __init__(self, patience=5, delta=0):\n",
    "        self.patience = patience\n",
    "        self.delta = delta\n",
    "        self.best_score = None\n",
    "        self.early_stop = False\n",
    "        self.counter = 0\n",
    "        self.best_model_state = None\n",
    "\n",
    "    def __call__(self, val_loss, model):\n",
    "        score = -val_loss\n",
    "\n",
    "        if self.best_score is None:\n",
    "            self.best_score = score\n",
    "            self.best_model_state = model.state_dict()\n",
    "        elif score < self.best_score + self.delta:\n",
    "            self.counter += 1\n",
    "            if self.counter >= self.patience:\n",
    "                self.early_stop = True\n",
    "        else:\n",
    "            self.best_score = score\n",
    "            self.best_model_state = model.state_dict()\n",
    "            self.counter = 0\n",
    "\n",
    "    def load_best_model(self, model):\n",
    "        model.load_state_dict(self.best_model_state)"
   ]
  },
  {
   "cell_type": "code",
   "execution_count": 10,
   "metadata": {},
   "outputs": [],
   "source": [
    "class ImprovedVGG(nn.Module):\n",
    "    def __init__(self, num_classes=20):\n",
    "        super(ImprovedVGG, self).__init__()\n",
    "        self.features = nn.Sequential(\n",
    "            # Block 1\n",
    "            nn.Conv2d(3, 32, kernel_size=3, padding=1),\n",
    "            nn.ReLU(inplace=True),\n",
    "            nn.BatchNorm2d(32),\n",
    "            nn.Conv2d(32, 32, kernel_size=3, padding=1),\n",
    "            nn.ReLU(inplace=True),\n",
    "            nn.BatchNorm2d(32),\n",
    "            nn.MaxPool2d(kernel_size=2, stride=2),\n",
    "\n",
    "            # Block 2\n",
    "            nn.Conv2d(32, 64, kernel_size=3, padding=1),\n",
    "            nn.ReLU(inplace=True),\n",
    "            nn.BatchNorm2d(64),\n",
    "            nn.Conv2d(64, 64, kernel_size=3, padding=1),\n",
    "            nn.ReLU(inplace=True),\n",
    "            nn.BatchNorm2d(64),\n",
    "            nn.MaxPool2d(kernel_size=2, stride=2),\n",
    "\n",
    "            # Block 3\n",
    "            nn.Conv2d(64, 128, kernel_size=3, padding=1),\n",
    "            nn.ReLU(inplace=True),\n",
    "            nn.BatchNorm2d(128),\n",
    "            nn.Conv2d(128, 128, kernel_size=3, padding=1),\n",
    "            nn.ReLU(inplace=True),\n",
    "            nn.BatchNorm2d(128),\n",
    "            nn.MaxPool2d(kernel_size=2, stride=2)\n",
    "        )\n",
    "\n",
    "        self.classifier = nn.Sequential(\n",
    "            nn.Linear(128 * 8 * 8, 512),  # Adjusted for the output size after feature extraction\n",
    "            nn.ReLU(inplace=True),\n",
    "            nn.Dropout(p=0.5),\n",
    "            nn.Linear(512, 256),\n",
    "            nn.ReLU(inplace=True),\n",
    "            nn.Dropout(p=0.5),\n",
    "            nn.Linear(256, num_classes)  # Output layer for the number of classes\n",
    "        )\n",
    "\n",
    "    def forward(self, x):\n",
    "        # print(x.shape)\n",
    "        x = self.features(x)\n",
    "        x = x.view(x.size(0), -1)  # Flatten the tensor\n",
    "        x = self.classifier(x)\n",
    "        return x"
   ]
  },
  {
   "cell_type": "code",
   "execution_count": 11,
   "metadata": {},
   "outputs": [
    {
     "name": "stdout",
     "output_type": "stream",
     "text": [
      "Кол-во классов: 18\n",
      "ImprovedVGG(\n",
      "  (features): Sequential(\n",
      "    (0): Conv2d(3, 32, kernel_size=(3, 3), stride=(1, 1), padding=(1, 1))\n",
      "    (1): ReLU(inplace=True)\n",
      "    (2): BatchNorm2d(32, eps=1e-05, momentum=0.1, affine=True, track_running_stats=True)\n",
      "    (3): Conv2d(32, 32, kernel_size=(3, 3), stride=(1, 1), padding=(1, 1))\n",
      "    (4): ReLU(inplace=True)\n",
      "    (5): BatchNorm2d(32, eps=1e-05, momentum=0.1, affine=True, track_running_stats=True)\n",
      "    (6): MaxPool2d(kernel_size=2, stride=2, padding=0, dilation=1, ceil_mode=False)\n",
      "    (7): Conv2d(32, 64, kernel_size=(3, 3), stride=(1, 1), padding=(1, 1))\n",
      "    (8): ReLU(inplace=True)\n",
      "    (9): BatchNorm2d(64, eps=1e-05, momentum=0.1, affine=True, track_running_stats=True)\n",
      "    (10): Conv2d(64, 64, kernel_size=(3, 3), stride=(1, 1), padding=(1, 1))\n",
      "    (11): ReLU(inplace=True)\n",
      "    (12): BatchNorm2d(64, eps=1e-05, momentum=0.1, affine=True, track_running_stats=True)\n",
      "    (13): MaxPool2d(kernel_size=2, stride=2, padding=0, dilation=1, ceil_mode=False)\n",
      "    (14): Conv2d(64, 128, kernel_size=(3, 3), stride=(1, 1), padding=(1, 1))\n",
      "    (15): ReLU(inplace=True)\n",
      "    (16): BatchNorm2d(128, eps=1e-05, momentum=0.1, affine=True, track_running_stats=True)\n",
      "    (17): Conv2d(128, 128, kernel_size=(3, 3), stride=(1, 1), padding=(1, 1))\n",
      "    (18): ReLU(inplace=True)\n",
      "    (19): BatchNorm2d(128, eps=1e-05, momentum=0.1, affine=True, track_running_stats=True)\n",
      "    (20): MaxPool2d(kernel_size=2, stride=2, padding=0, dilation=1, ceil_mode=False)\n",
      "  )\n",
      "  (classifier): Sequential(\n",
      "    (0): Linear(in_features=8192, out_features=512, bias=True)\n",
      "    (1): ReLU(inplace=True)\n",
      "    (2): Dropout(p=0.5, inplace=False)\n",
      "    (3): Linear(in_features=512, out_features=256, bias=True)\n",
      "    (4): ReLU(inplace=True)\n",
      "    (5): Dropout(p=0.5, inplace=False)\n",
      "    (6): Linear(in_features=256, out_features=19, bias=True)\n",
      "  )\n",
      ")\n"
     ]
    }
   ],
   "source": [
    "# Выведем summary модели\n",
    "num_classes = len(range(train_labels[\"target_feature\"].min(), train_labels[\"target_feature\"].max()))\n",
    "print(\"Кол-во классов:\", num_classes)\n",
    "\n",
    "vgg = ImprovedVGG(num_classes=num_classes + 1).to(device)\n",
    "print(vgg)"
   ]
  },
  {
   "cell_type": "code",
   "execution_count": 190,
   "metadata": {},
   "outputs": [
    {
     "name": "stderr",
     "output_type": "stream",
     "text": [
      "Warning: Could not load \"C:\\Users\\boris\\anaconda3\\envs\\conda_env_24_25\\Library\\bin\\gvplugin_pango.dll\" - It was found, so perhaps one of its dependents was not.  Try ldd.\n",
      "Warning: Could not load \"C:\\Users\\boris\\anaconda3\\envs\\conda_env_24_25\\Library\\bin\\gvplugin_pango.dll\" - It was found, so perhaps one of its dependents was not.  Try ldd.\n",
      "Warning: Could not load \"C:\\Users\\boris\\anaconda3\\envs\\conda_env_24_25\\Library\\bin\\gvplugin_pango.dll\" - It was found, so perhaps one of its dependents was not.  Try ldd.\n",
      "Warning: no hard-coded metrics for 'monospace'.  Falling back to 'Times' metrics\n",
      "Warning: no hard-coded metrics for 'monospace'.  Falling back to 'Times' metrics\n",
      "Warning: no hard-coded metrics for 'monospace'.  Falling back to 'Times' metrics\n",
      "Warning: no hard-coded metrics for 'monospace'.  Falling back to 'Times' metrics\n",
      "Warning: no hard-coded metrics for 'monospace'.  Falling back to 'Times' metrics\n",
      "Warning: no hard-coded metrics for 'monospace'.  Falling back to 'Times' metrics\n",
      "Warning: no hard-coded metrics for 'monospace'.  Falling back to 'Times' metrics\n",
      "Warning: no hard-coded metrics for 'monospace'.  Falling back to 'Times' metrics\n",
      "Warning: no hard-coded metrics for 'monospace'.  Falling back to 'Times' metrics\n",
      "Warning: no hard-coded metrics for 'monospace'.  Falling back to 'Times' metrics\n",
      "Warning: no hard-coded metrics for 'monospace'.  Falling back to 'Times' metrics\n",
      "Warning: no hard-coded metrics for 'monospace'.  Falling back to 'Times' metrics\n",
      "Warning: no hard-coded metrics for 'monospace'.  Falling back to 'Times' metrics\n",
      "Warning: no hard-coded metrics for 'monospace'.  Falling back to 'Times' metrics\n",
      "Warning: no hard-coded metrics for 'monospace'.  Falling back to 'Times' metrics\n",
      "Warning: no hard-coded metrics for 'monospace'.  Falling back to 'Times' metrics\n",
      "Warning: no hard-coded metrics for 'monospace'.  Falling back to 'Times' metrics\n",
      "Warning: no hard-coded metrics for 'monospace'.  Falling back to 'Times' metrics\n",
      "Warning: no hard-coded metrics for 'monospace'.  Falling back to 'Times' metrics\n",
      "Warning: no hard-coded metrics for 'monospace'.  Falling back to 'Times' metrics\n",
      "Warning: no hard-coded metrics for 'monospace'.  Falling back to 'Times' metrics\n",
      "Warning: no hard-coded metrics for 'monospace'.  Falling back to 'Times' metrics\n",
      "Warning: no hard-coded metrics for 'monospace'.  Falling back to 'Times' metrics\n",
      "Warning: no hard-coded metrics for 'monospace'.  Falling back to 'Times' metrics\n",
      "Warning: no hard-coded metrics for 'monospace'.  Falling back to 'Times' metrics\n",
      "Warning: no hard-coded metrics for 'monospace'.  Falling back to 'Times' metrics\n",
      "Warning: no hard-coded metrics for 'monospace'.  Falling back to 'Times' metrics\n",
      "Warning: no hard-coded metrics for 'monospace'.  Falling back to 'Times' metrics\n",
      "Warning: no hard-coded metrics for 'monospace'.  Falling back to 'Times' metrics\n",
      "Warning: no hard-coded metrics for 'monospace'.  Falling back to 'Times' metrics\n",
      "Warning: no hard-coded metrics for 'monospace'.  Falling back to 'Times' metrics\n",
      "Warning: no hard-coded metrics for 'monospace'.  Falling back to 'Times' metrics\n",
      "Warning: no hard-coded metrics for 'monospace'.  Falling back to 'Times' metrics\n",
      "Warning: no hard-coded metrics for 'monospace'.  Falling back to 'Times' metrics\n",
      "Warning: no hard-coded metrics for 'monospace'.  Falling back to 'Times' metrics\n",
      "Warning: no hard-coded metrics for 'monospace'.  Falling back to 'Times' metrics\n",
      "Warning: no hard-coded metrics for 'monospace'.  Falling back to 'Times' metrics\n",
      "Warning: no hard-coded metrics for 'monospace'.  Falling back to 'Times' metrics\n",
      "Warning: no hard-coded metrics for 'monospace'.  Falling back to 'Times' metrics\n",
      "Warning: no hard-coded metrics for 'monospace'.  Falling back to 'Times' metrics\n",
      "Warning: no hard-coded metrics for 'monospace'.  Falling back to 'Times' metrics\n",
      "Warning: no hard-coded metrics for 'monospace'.  Falling back to 'Times' metrics\n",
      "Warning: no hard-coded metrics for 'monospace'.  Falling back to 'Times' metrics\n",
      "Warning: no hard-coded metrics for 'monospace'.  Falling back to 'Times' metrics\n",
      "Warning: no hard-coded metrics for 'monospace'.  Falling back to 'Times' metrics\n",
      "Warning: no hard-coded metrics for 'monospace'.  Falling back to 'Times' metrics\n",
      "Warning: no hard-coded metrics for 'monospace'.  Falling back to 'Times' metrics\n",
      "Warning: no hard-coded metrics for 'monospace'.  Falling back to 'Times' metrics\n",
      "Warning: no hard-coded metrics for 'monospace'.  Falling back to 'Times' metrics\n",
      "Warning: no hard-coded metrics for 'monospace'.  Falling back to 'Times' metrics\n",
      "Warning: no hard-coded metrics for 'monospace'.  Falling back to 'Times' metrics\n",
      "Warning: no hard-coded metrics for 'monospace'.  Falling back to 'Times' metrics\n",
      "Warning: no hard-coded metrics for 'monospace'.  Falling back to 'Times' metrics\n",
      "Warning: no hard-coded metrics for 'monospace'.  Falling back to 'Times' metrics\n",
      "Warning: no hard-coded metrics for 'monospace'.  Falling back to 'Times' metrics\n",
      "Warning: no hard-coded metrics for 'monospace'.  Falling back to 'Times' metrics\n",
      "Warning: no hard-coded metrics for 'monospace'.  Falling back to 'Times' metrics\n",
      "Warning: no hard-coded metrics for 'monospace'.  Falling back to 'Times' metrics\n",
      "Warning: no hard-coded metrics for 'monospace'.  Falling back to 'Times' metrics\n",
      "Warning: no hard-coded metrics for 'monospace'.  Falling back to 'Times' metrics\n",
      "Warning: no hard-coded metrics for 'monospace'.  Falling back to 'Times' metrics\n",
      "Warning: no hard-coded metrics for 'monospace'.  Falling back to 'Times' metrics\n",
      "Warning: no hard-coded metrics for 'monospace'.  Falling back to 'Times' metrics\n",
      "Warning: no hard-coded metrics for 'monospace'.  Falling back to 'Times' metrics\n",
      "Warning: no hard-coded metrics for 'monospace'.  Falling back to 'Times' metrics\n",
      "Warning: no hard-coded metrics for 'monospace'.  Falling back to 'Times' metrics\n",
      "Warning: no hard-coded metrics for 'monospace'.  Falling back to 'Times' metrics\n",
      "Warning: no hard-coded metrics for 'monospace'.  Falling back to 'Times' metrics\n",
      "Warning: no hard-coded metrics for 'monospace'.  Falling back to 'Times' metrics\n",
      "Warning: no hard-coded metrics for 'monospace'.  Falling back to 'Times' metrics\n",
      "Warning: no hard-coded metrics for 'monospace'.  Falling back to 'Times' metrics\n",
      "Warning: no hard-coded metrics for 'monospace'.  Falling back to 'Times' metrics\n",
      "Warning: no hard-coded metrics for 'monospace'.  Falling back to 'Times' metrics\n",
      "Warning: no hard-coded metrics for 'monospace'.  Falling back to 'Times' metrics\n",
      "Warning: no hard-coded metrics for 'monospace'.  Falling back to 'Times' metrics\n",
      "Warning: no hard-coded metrics for 'monospace'.  Falling back to 'Times' metrics\n",
      "Warning: no hard-coded metrics for 'monospace'.  Falling back to 'Times' metrics\n",
      "Warning: no hard-coded metrics for 'monospace'.  Falling back to 'Times' metrics\n",
      "Warning: no hard-coded metrics for 'monospace'.  Falling back to 'Times' metrics\n",
      "Warning: no hard-coded metrics for 'monospace'.  Falling back to 'Times' metrics\n",
      "Warning: no hard-coded metrics for 'monospace'.  Falling back to 'Times' metrics\n",
      "Warning: no hard-coded metrics for 'monospace'.  Falling back to 'Times' metrics\n",
      "Warning: no hard-coded metrics for 'monospace'.  Falling back to 'Times' metrics\n",
      "Warning: no hard-coded metrics for 'monospace'.  Falling back to 'Times' metrics\n",
      "Warning: no hard-coded metrics for 'monospace'.  Falling back to 'Times' metrics\n",
      "Warning: no hard-coded metrics for 'monospace'.  Falling back to 'Times' metrics\n",
      "Warning: no hard-coded metrics for 'monospace'.  Falling back to 'Times' metrics\n",
      "Warning: no hard-coded metrics for 'monospace'.  Falling back to 'Times' metrics\n",
      "Warning: no hard-coded metrics for 'monospace'.  Falling back to 'Times' metrics\n",
      "Warning: no hard-coded metrics for 'monospace'.  Falling back to 'Times' metrics\n",
      "Warning: no hard-coded metrics for 'monospace'.  Falling back to 'Times' metrics\n",
      "Warning: no hard-coded metrics for 'monospace'.  Falling back to 'Times' metrics\n",
      "Warning: no hard-coded metrics for 'monospace'.  Falling back to 'Times' metrics\n",
      "Warning: no hard-coded metrics for 'monospace'.  Falling back to 'Times' metrics\n",
      "Warning: no hard-coded metrics for 'monospace'.  Falling back to 'Times' metrics\n",
      "Warning: no hard-coded metrics for 'monospace'.  Falling back to 'Times' metrics\n",
      "Warning: no hard-coded metrics for 'monospace'.  Falling back to 'Times' metrics\n",
      "Warning: no hard-coded metrics for 'monospace'.  Falling back to 'Times' metrics\n",
      "Warning: no hard-coded metrics for 'monospace'.  Falling back to 'Times' metrics\n",
      "Warning: no hard-coded metrics for 'monospace'.  Falling back to 'Times' metrics\n",
      "Warning: no hard-coded metrics for 'monospace'.  Falling back to 'Times' metrics\n",
      "Warning: no hard-coded metrics for 'monospace'.  Falling back to 'Times' metrics\n",
      "Warning: no hard-coded metrics for 'monospace'.  Falling back to 'Times' metrics\n",
      "Warning: no hard-coded metrics for 'monospace'.  Falling back to 'Times' metrics\n",
      "Warning: no hard-coded metrics for 'monospace'.  Falling back to 'Times' metrics\n",
      "Warning: no hard-coded metrics for 'monospace'.  Falling back to 'Times' metrics\n",
      "Warning: no hard-coded metrics for 'monospace'.  Falling back to 'Times' metrics\n",
      "Warning: no hard-coded metrics for 'monospace'.  Falling back to 'Times' metrics\n",
      "Warning: no hard-coded metrics for 'monospace'.  Falling back to 'Times' metrics\n",
      "Warning: no hard-coded metrics for 'monospace'.  Falling back to 'Times' metrics\n",
      "Warning: no hard-coded metrics for 'monospace'.  Falling back to 'Times' metrics\n",
      "Warning: no hard-coded metrics for 'monospace'.  Falling back to 'Times' metrics\n",
      "Warning: no hard-coded metrics for 'monospace'.  Falling back to 'Times' metrics\n",
      "Warning: no hard-coded metrics for 'monospace'.  Falling back to 'Times' metrics\n",
      "Warning: no hard-coded metrics for 'monospace'.  Falling back to 'Times' metrics\n",
      "Warning: no hard-coded metrics for 'monospace'.  Falling back to 'Times' metrics\n",
      "Warning: no hard-coded metrics for 'monospace'.  Falling back to 'Times' metrics\n",
      "Warning: no hard-coded metrics for 'monospace'.  Falling back to 'Times' metrics\n",
      "Warning: no hard-coded metrics for 'monospace'.  Falling back to 'Times' metrics\n",
      "Warning: no hard-coded metrics for 'monospace'.  Falling back to 'Times' metrics\n",
      "Warning: no hard-coded metrics for 'monospace'.  Falling back to 'Times' metrics\n",
      "Warning: no hard-coded metrics for 'monospace'.  Falling back to 'Times' metrics\n",
      "Warning: no hard-coded metrics for 'monospace'.  Falling back to 'Times' metrics\n",
      "Warning: Could not load \"C:\\Users\\boris\\anaconda3\\envs\\conda_env_24_25\\Library\\bin\\gvplugin_pango.dll\" - It was found, so perhaps one of its dependents was not.  Try ldd.\n",
      "Warning: Could not load \"C:\\Users\\boris\\anaconda3\\envs\\conda_env_24_25\\Library\\bin\\gvplugin_pango.dll\" - It was found, so perhaps one of its dependents was not.  Try ldd.\n"
     ]
    },
    {
     "data": {
      "text/plain": [
       "'improvedVGG_model_graph.png'"
      ]
     },
     "execution_count": 190,
     "metadata": {},
     "output_type": "execute_result"
    }
   ],
   "source": [
    "# Воспользумся модулем torchviz для красивого отобржения архитектуры\n",
    "\n",
    "dummy_input = torch.randn(1, 3, 64, 64)\n",
    "\n",
    "output = vgg(dummy_input)\n",
    "dot = make_dot(output, params=dict(vgg.named_parameters()))\n",
    "\n",
    "dot.format = 'png'\n",
    "dot.render('improvedVGG_model_graph')"
   ]
  },
  {
   "cell_type": "code",
   "execution_count": 191,
   "metadata": {},
   "outputs": [],
   "source": [
    "# from IPython.display import Image\n",
    "# Image(filename='improvedVGG_model_graph.png')"
   ]
  },
  {
   "cell_type": "code",
   "execution_count": 18,
   "metadata": {},
   "outputs": [
    {
     "name": "stdout",
     "output_type": "stream",
     "text": [
      "Original pictures:\n",
      "\n"
     ]
    },
    {
     "data": {
      "image/png": "[encoded data removed]",
      "text/plain": [
       "<Figure size 1500x500 with 5 Axes>"
      ]
     },
     "metadata": {},
     "output_type": "display_data"
    },
    {
     "name": "stdout",
     "output_type": "stream",
     "text": [
      "pictures after transforms:\n",
      "\n"
     ]
    },
    {
     "data": {
      "image/png": "[encoded data removed]",
      "text/plain": [
       "<Figure size 1500x500 with 5 Axes>"
      ]
     },
     "metadata": {},
     "output_type": "display_data"
    }
   ],
   "source": [
    "# Посмотрим на картинки в обучающей выборке\n",
    "\n",
    "def show_images(dataset, num_images=5):\n",
    "    \"\"\"Функция для отображения нескольких изображений из датасета\"\"\"\n",
    "    fig, axes = plt.subplots(1, num_images, figsize=(15, 5))\n",
    "    for i in range(num_images):\n",
    "        image, _label = dataset[i]  # Получаем изображение и метку\n",
    "        # print(image)\n",
    "        image = image.to(device).unsqueeze(0)\n",
    "        # print(image)\n",
    "        image = image.cpu().squeeze().permute(1, 2, 0) * 0.5 + 0.5  # Меняем порядок осей для отображения и обратно нормализуем для отображения (если нормализовали)\n",
    "        axes[i].imshow(image)\n",
    "        axes[i].set_title(f\"Label: {_label}\")\n",
    "        axes[i].axis(\"off\")\n",
    "    plt.show()\n",
    "\n",
    "# Покажем несколько изображений из обучающего набора\n",
    "print(\"Original pictures:\\n\")\n",
    "show_images(train_dataset_view, num_images=5)\n",
    "print(\"pictures after transforms:\\n\")\n",
    "show_images(train_dataset, num_images=5)"
   ]
  },
  {
   "cell_type": "markdown",
   "metadata": {},
   "source": [
    "**Изменим функцию обучения с добавлением чекпоинтов + scheduler**"
   ]
  },
  {
   "cell_type": "code",
   "execution_count": 23,
   "metadata": {},
   "outputs": [],
   "source": [
    "# Early stopping\n",
    "early_stopping = EarlyStopping(patience=2, delta=0.01)\n",
    "\n",
    "# Функция обучения и оценки \n",
    "\n",
    "def train_and_evaluate(model, criterion, optimizer, train_loader, val_loader, num_epochs, \n",
    "                       lr=1e-3, checkpoint_dir='./checkpoints', checkpoint_path=None):\n",
    "    train_losses, val_losses = [], []\n",
    "    val_metrics = []\n",
    "\n",
    "    os.makedirs(checkpoint_dir, exist_ok=True)\n",
    "    start_epoch = 0\n",
    "\n",
    "    scheduler = ReduceLROnPlateau(optimizer, mode='min', patience=5, factor=0.5, verbose=True)\n",
    "\n",
    "    # Загрузка чекпоинта, если он указан\n",
    "    if checkpoint_path is not None:\n",
    "        checkpoint = torch.load(checkpoint_path)\n",
    "        model.load_state_dict(checkpoint['model_state_dict'])\n",
    "        optimizer.load_state_dict(checkpoint['optimizer_state_dict'])\n",
    "        start_epoch = checkpoint['epoch']\n",
    "        print(f\"Resuming training from epoch {start_epoch}\")\n",
    "\n",
    "    for epoch in range(start_epoch, num_epochs):\n",
    "        # Обучение\n",
    "        model.train()\n",
    "        train_loss = 0\n",
    "        for images, labels in tqdm(train_loader, desc=f'Epoch {epoch+1}\\{num_epochs} [Training]'):\n",
    "            images = images.to(device)\n",
    "            # images = images.cpu().squeeze().permute(1, 2, 0) * 0.5 + 0.5\n",
    "            labels = labels.to(device)\n",
    "\n",
    "            optimizer.zero_grad()\n",
    "            outputs = model(images)\n",
    "            loss = criterion(outputs, labels)\n",
    "            loss.backward()\n",
    "            optimizer.step()\n",
    "\n",
    "            train_loss += loss.item()\n",
    "\n",
    "        train_loss /= len(train_loader)\n",
    "        train_losses.append(train_loss)\n",
    "\n",
    "        # Оценка\n",
    "        model.eval()\n",
    "        val_loss = 0\n",
    "        all_preds = []\n",
    "        all_labels = []\n",
    "        with torch.no_grad():\n",
    "            for images, labels in tqdm(val_loader, desc=f\"Epoch {epoch+1}/{num_epochs} [Validation]\"):\n",
    "                images = images.to(device)\n",
    "                # images = images.cpu().squeeze().permute(1, 2, 0) * 0.5 + 0.5\n",
    "                labels = labels.to(device)\n",
    "                outputs = model(images)\n",
    "                loss = criterion(outputs, labels)\n",
    "                val_loss += loss.item()\n",
    "\n",
    "                preds = torch.argmax(outputs, dim=1)\n",
    "                all_preds.extend(preds.cpu().numpy())\n",
    "                all_labels.extend(labels.cpu().numpy())\n",
    "\n",
    "        val_loss /= len(val_loader)\n",
    "        val_losses.append(val_loss)\n",
    "\n",
    "        acc = accuracy_score(all_labels, all_preds)\n",
    "        prec = precision_score(all_labels, all_preds, average=\"weighted\")\n",
    "        rec = recall_score(all_labels, all_preds, average=\"weighted\")\n",
    "        f1 = f1_score(all_labels, all_preds, average=\"weighted\")\n",
    "        val_metrics.append((acc, prec, rec, f1))\n",
    "\n",
    "        print(f\"Epoch {epoch + 1}/{num_epochs}, Train Loss: {train_loss:.4f}, Val Loss: {val_loss:.4f}, \"\n",
    "              f\"Val Acc: {acc:.4f}, Val Prec: {prec:.4f}, Val Recall: {rec:.4f}, Val F1: {f1:.4f}\")\n",
    "        \n",
    "        scheduler.step(val_loss)\n",
    "\n",
    "        # Сохранение чекпоинтов\n",
    "        if (epoch + 1) % 5 == 0:\n",
    "            checkpoint_path = os.path.join(checkpoint_dir, f\"model_epoch{epoch + 1}_acc{acc:.4f}.pth\")\n",
    "            torch.save({'epoch': epoch + 1,\n",
    "                        'model_state_dict': model.state_dict(),\n",
    "                        'optimizer_state_dict': optimizer.state_dict(),\n",
    "                        'val_loss': val_loss}, checkpoint_path)\n",
    "\n",
    "    return train_losses, val_losses, val_metrics"
   ]
  },
  {
   "cell_type": "code",
   "execution_count": 26,
   "metadata": {},
   "outputs": [],
   "source": [
    "# Определяем критерий и оптимизатор\n",
    "criterion = nn.CrossEntropyLoss() \n",
    "optimizer = optim.Adam(vgg.parameters(), lr=lr) "
   ]
  },
  {
   "cell_type": "code",
   "execution_count": 34,
   "metadata": {},
   "outputs": [],
   "source": [
    "# Функция для предсказания и сохранения результатов\n",
    "def predict_and_save(model, test_loader, output_file):\n",
    "    model.eval()\n",
    "    predictions = []\n",
    "\n",
    "    with torch.no_grad():\n",
    "        for images, ids in tqdm(test_loader):  # img_name_batch нам не нужен для индексации\n",
    "            images = images.to(device)\n",
    "            # ids = ids.to(device)\n",
    "            outputs = model(images)\n",
    "            preds = torch.argmax(outputs, dim=1).cpu().numpy()\n",
    "            \n",
    "            for img_id, pred in zip(ids, preds):\n",
    "                predictions.append((img_id, pred))\n",
    "\n",
    "    # Создаем DataFrame с индексами и предсказаниями\n",
    "    results_df = pd.DataFrame(predictions, columns=['id', 'target_feature'])\n",
    "    results_df['id'] = results_df['id'].str.replace(\".jpg\", \"\")\n",
    "\n",
    "    # Сохраняем файл в формате CSV\n",
    "    results_df.to_csv(output_file, index=False)\n",
    "    print(f\"Предсказания сохранены в файл {output_file}\")"
   ]
  },
  {
   "cell_type": "code",
   "execution_count": 201,
   "metadata": {},
   "outputs": [],
   "source": [
    "# Сохраняем модель\n",
    "\n",
    "torch.save(vgg, \"vgg.pth\")"
   ]
  },
  {
   "cell_type": "code",
   "execution_count": 202,
   "metadata": {},
   "outputs": [],
   "source": [
    "checkpoint_path = \"./checkpoints/model_epoch15_acc0.3668.pth\""
   ]
  },
  {
   "cell_type": "code",
   "execution_count": 203,
   "metadata": {},
   "outputs": [
    {
     "name": "stderr",
     "output_type": "stream",
     "text": [
      "Epoch 1\\75 [Training]: 100%|██████████| 310/310 [04:01<00:00,  1.28it/s]\n",
      "Epoch 1/75 [Validation]: 100%|██████████| 78/78 [00:57<00:00,  1.36it/s]\n",
      "c:\\Users\\boris\\anaconda3\\envs\\conda_env_24_25\\lib\\site-packages\\sklearn\\metrics\\_classification.py:1471: UndefinedMetricWarning: Precision is ill-defined and being set to 0.0 in labels with no predicted samples. Use `zero_division` parameter to control this behavior.\n",
      "  _warn_prf(average, modifier, msg_start, len(result))\n"
     ]
    },
    {
     "name": "stdout",
     "output_type": "stream",
     "text": [
      "Epoch 1/75, Train Loss: 2.6753, Val Loss: 2.4793, Val Acc: 0.2119, Val Prec: 0.1341, Val Recall: 0.2119, Val F1: 0.1362\n"
     ]
    },
    {
     "name": "stderr",
     "output_type": "stream",
     "text": [
      "Epoch 2\\75 [Training]: 100%|██████████| 310/310 [02:47<00:00,  1.85it/s]\n",
      "Epoch 2/75 [Validation]: 100%|██████████| 78/78 [00:39<00:00,  1.98it/s]\n",
      "c:\\Users\\boris\\anaconda3\\envs\\conda_env_24_25\\lib\\site-packages\\sklearn\\metrics\\_classification.py:1471: UndefinedMetricWarning: Precision is ill-defined and being set to 0.0 in labels with no predicted samples. Use `zero_division` parameter to control this behavior.\n",
      "  _warn_prf(average, modifier, msg_start, len(result))\n"
     ]
    },
    {
     "name": "stdout",
     "output_type": "stream",
     "text": [
      "Epoch 2/75, Train Loss: 2.5245, Val Loss: 2.4403, Val Acc: 0.2248, Val Prec: 0.1441, Val Recall: 0.2248, Val F1: 0.1457\n"
     ]
    },
    {
     "name": "stderr",
     "output_type": "stream",
     "text": [
      "Epoch 3\\75 [Training]: 100%|██████████| 310/310 [02:49<00:00,  1.83it/s]\n",
      "Epoch 3/75 [Validation]: 100%|██████████| 78/78 [00:39<00:00,  1.98it/s]\n",
      "c:\\Users\\boris\\anaconda3\\envs\\conda_env_24_25\\lib\\site-packages\\sklearn\\metrics\\_classification.py:1471: UndefinedMetricWarning: Precision is ill-defined and being set to 0.0 in labels with no predicted samples. Use `zero_division` parameter to control this behavior.\n",
      "  _warn_prf(average, modifier, msg_start, len(result))\n"
     ]
    },
    {
     "name": "stdout",
     "output_type": "stream",
     "text": [
      "Epoch 3/75, Train Loss: 2.4715, Val Loss: 2.3781, Val Acc: 0.2459, Val Prec: 0.2026, Val Recall: 0.2459, Val F1: 0.1670\n"
     ]
    },
    {
     "name": "stderr",
     "output_type": "stream",
     "text": [
      "Epoch 4\\75 [Training]: 100%|██████████| 310/310 [02:53<00:00,  1.79it/s]\n",
      "Epoch 4/75 [Validation]: 100%|██████████| 78/78 [00:39<00:00,  1.99it/s]\n",
      "c:\\Users\\boris\\anaconda3\\envs\\conda_env_24_25\\lib\\site-packages\\sklearn\\metrics\\_classification.py:1471: UndefinedMetricWarning: Precision is ill-defined and being set to 0.0 in labels with no predicted samples. Use `zero_division` parameter to control this behavior.\n",
      "  _warn_prf(average, modifier, msg_start, len(result))\n"
     ]
    },
    {
     "name": "stdout",
     "output_type": "stream",
     "text": [
      "Epoch 4/75, Train Loss: 2.4418, Val Loss: 2.3476, Val Acc: 0.2584, Val Prec: 0.1550, Val Recall: 0.2584, Val F1: 0.1710\n"
     ]
    },
    {
     "name": "stderr",
     "output_type": "stream",
     "text": [
      "Epoch 5\\75 [Training]: 100%|██████████| 310/310 [02:48<00:00,  1.84it/s]\n",
      "Epoch 5/75 [Validation]: 100%|██████████| 78/78 [00:38<00:00,  2.04it/s]\n",
      "c:\\Users\\boris\\anaconda3\\envs\\conda_env_24_25\\lib\\site-packages\\sklearn\\metrics\\_classification.py:1471: UndefinedMetricWarning: Precision is ill-defined and being set to 0.0 in labels with no predicted samples. Use `zero_division` parameter to control this behavior.\n",
      "  _warn_prf(average, modifier, msg_start, len(result))\n"
     ]
    },
    {
     "name": "stdout",
     "output_type": "stream",
     "text": [
      "Epoch 5/75, Train Loss: 2.4198, Val Loss: 2.3568, Val Acc: 0.2552, Val Prec: 0.1831, Val Recall: 0.2552, Val F1: 0.1632\n"
     ]
    },
    {
     "name": "stderr",
     "output_type": "stream",
     "text": [
      "Epoch 6\\75 [Training]: 100%|██████████| 310/310 [02:49<00:00,  1.83it/s]\n",
      "Epoch 6/75 [Validation]: 100%|██████████| 78/78 [00:38<00:00,  2.03it/s]\n",
      "c:\\Users\\boris\\anaconda3\\envs\\conda_env_24_25\\lib\\site-packages\\sklearn\\metrics\\_classification.py:1471: UndefinedMetricWarning: Precision is ill-defined and being set to 0.0 in labels with no predicted samples. Use `zero_division` parameter to control this behavior.\n",
      "  _warn_prf(average, modifier, msg_start, len(result))\n"
     ]
    },
    {
     "name": "stdout",
     "output_type": "stream",
     "text": [
      "Epoch 6/75, Train Loss: 2.3762, Val Loss: 2.3148, Val Acc: 0.2782, Val Prec: 0.2008, Val Recall: 0.2782, Val F1: 0.2121\n"
     ]
    },
    {
     "name": "stderr",
     "output_type": "stream",
     "text": [
      "Epoch 7\\75 [Training]: 100%|██████████| 310/310 [02:56<00:00,  1.75it/s]\n",
      "Epoch 7/75 [Validation]: 100%|██████████| 78/78 [00:34<00:00,  2.24it/s]\n",
      "c:\\Users\\boris\\anaconda3\\envs\\conda_env_24_25\\lib\\site-packages\\sklearn\\metrics\\_classification.py:1471: UndefinedMetricWarning: Precision is ill-defined and being set to 0.0 in labels with no predicted samples. Use `zero_division` parameter to control this behavior.\n",
      "  _warn_prf(average, modifier, msg_start, len(result))\n"
     ]
    },
    {
     "name": "stdout",
     "output_type": "stream",
     "text": [
      "Epoch 7/75, Train Loss: 2.3642, Val Loss: 2.3314, Val Acc: 0.2632, Val Prec: 0.1927, Val Recall: 0.2632, Val F1: 0.1849\n"
     ]
    },
    {
     "name": "stderr",
     "output_type": "stream",
     "text": [
      "Epoch 8\\75 [Training]: 100%|██████████| 310/310 [02:41<00:00,  1.92it/s]\n",
      "Epoch 8/75 [Validation]: 100%|██████████| 78/78 [00:35<00:00,  2.17it/s]\n",
      "c:\\Users\\boris\\anaconda3\\envs\\conda_env_24_25\\lib\\site-packages\\sklearn\\metrics\\_classification.py:1471: UndefinedMetricWarning: Precision is ill-defined and being set to 0.0 in labels with no predicted samples. Use `zero_division` parameter to control this behavior.\n",
      "  _warn_prf(average, modifier, msg_start, len(result))\n"
     ]
    },
    {
     "name": "stdout",
     "output_type": "stream",
     "text": [
      "Epoch 8/75, Train Loss: 2.3174, Val Loss: 2.2156, Val Acc: 0.2863, Val Prec: 0.2679, Val Recall: 0.2863, Val F1: 0.2101\n"
     ]
    },
    {
     "name": "stderr",
     "output_type": "stream",
     "text": [
      "Epoch 9\\75 [Training]: 100%|██████████| 310/310 [02:40<00:00,  1.93it/s]\n",
      "Epoch 9/75 [Validation]: 100%|██████████| 78/78 [00:36<00:00,  2.16it/s]\n",
      "c:\\Users\\boris\\anaconda3\\envs\\conda_env_24_25\\lib\\site-packages\\sklearn\\metrics\\_classification.py:1471: UndefinedMetricWarning: Precision is ill-defined and being set to 0.0 in labels with no predicted samples. Use `zero_division` parameter to control this behavior.\n",
      "  _warn_prf(average, modifier, msg_start, len(result))\n"
     ]
    },
    {
     "name": "stdout",
     "output_type": "stream",
     "text": [
      "Epoch 9/75, Train Loss: 2.2981, Val Loss: 2.2119, Val Acc: 0.2851, Val Prec: 0.2496, Val Recall: 0.2851, Val F1: 0.1964\n"
     ]
    },
    {
     "name": "stderr",
     "output_type": "stream",
     "text": [
      "Epoch 10\\75 [Training]: 100%|██████████| 310/310 [02:39<00:00,  1.95it/s]\n",
      "Epoch 10/75 [Validation]: 100%|██████████| 78/78 [00:34<00:00,  2.24it/s]\n",
      "c:\\Users\\boris\\anaconda3\\envs\\conda_env_24_25\\lib\\site-packages\\sklearn\\metrics\\_classification.py:1471: UndefinedMetricWarning: Precision is ill-defined and being set to 0.0 in labels with no predicted samples. Use `zero_division` parameter to control this behavior.\n",
      "  _warn_prf(average, modifier, msg_start, len(result))\n"
     ]
    },
    {
     "name": "stdout",
     "output_type": "stream",
     "text": [
      "Epoch 10/75, Train Loss: 2.2809, Val Loss: 2.2028, Val Acc: 0.2960, Val Prec: 0.2651, Val Recall: 0.2960, Val F1: 0.2258\n"
     ]
    },
    {
     "name": "stderr",
     "output_type": "stream",
     "text": [
      "Epoch 11\\75 [Training]: 100%|██████████| 310/310 [02:41<00:00,  1.92it/s]\n",
      "Epoch 11/75 [Validation]: 100%|██████████| 78/78 [00:37<00:00,  2.06it/s]\n",
      "c:\\Users\\boris\\anaconda3\\envs\\conda_env_24_25\\lib\\site-packages\\sklearn\\metrics\\_classification.py:1471: UndefinedMetricWarning: Precision is ill-defined and being set to 0.0 in labels with no predicted samples. Use `zero_division` parameter to control this behavior.\n",
      "  _warn_prf(average, modifier, msg_start, len(result))\n"
     ]
    },
    {
     "name": "stdout",
     "output_type": "stream",
     "text": [
      "Epoch 11/75, Train Loss: 2.2550, Val Loss: 2.1756, Val Acc: 0.3069, Val Prec: 0.2920, Val Recall: 0.3069, Val F1: 0.2332\n"
     ]
    },
    {
     "name": "stderr",
     "output_type": "stream",
     "text": [
      "Epoch 12\\75 [Training]: 100%|██████████| 310/310 [02:40<00:00,  1.93it/s]\n",
      "Epoch 12/75 [Validation]: 100%|██████████| 78/78 [00:34<00:00,  2.24it/s]\n",
      "c:\\Users\\boris\\anaconda3\\envs\\conda_env_24_25\\lib\\site-packages\\sklearn\\metrics\\_classification.py:1471: UndefinedMetricWarning: Precision is ill-defined and being set to 0.0 in labels with no predicted samples. Use `zero_division` parameter to control this behavior.\n",
      "  _warn_prf(average, modifier, msg_start, len(result))\n"
     ]
    },
    {
     "name": "stdout",
     "output_type": "stream",
     "text": [
      "Epoch 12/75, Train Loss: 2.2439, Val Loss: 2.1677, Val Acc: 0.2976, Val Prec: 0.2714, Val Recall: 0.2976, Val F1: 0.2317\n"
     ]
    },
    {
     "name": "stderr",
     "output_type": "stream",
     "text": [
      "Epoch 13\\75 [Training]: 100%|██████████| 310/310 [02:44<00:00,  1.89it/s]\n",
      "Epoch 13/75 [Validation]: 100%|██████████| 78/78 [00:36<00:00,  2.16it/s]\n",
      "c:\\Users\\boris\\anaconda3\\envs\\conda_env_24_25\\lib\\site-packages\\sklearn\\metrics\\_classification.py:1471: UndefinedMetricWarning: Precision is ill-defined and being set to 0.0 in labels with no predicted samples. Use `zero_division` parameter to control this behavior.\n",
      "  _warn_prf(average, modifier, msg_start, len(result))\n"
     ]
    },
    {
     "name": "stdout",
     "output_type": "stream",
     "text": [
      "Epoch 13/75, Train Loss: 2.2178, Val Loss: 2.1666, Val Acc: 0.3114, Val Prec: 0.2909, Val Recall: 0.3114, Val F1: 0.2370\n"
     ]
    },
    {
     "name": "stderr",
     "output_type": "stream",
     "text": [
      "Epoch 14\\75 [Training]: 100%|██████████| 310/310 [03:01<00:00,  1.71it/s]\n",
      "Epoch 14/75 [Validation]: 100%|██████████| 78/78 [00:35<00:00,  2.21it/s]\n",
      "c:\\Users\\boris\\anaconda3\\envs\\conda_env_24_25\\lib\\site-packages\\sklearn\\metrics\\_classification.py:1471: UndefinedMetricWarning: Precision is ill-defined and being set to 0.0 in labels with no predicted samples. Use `zero_division` parameter to control this behavior.\n",
      "  _warn_prf(average, modifier, msg_start, len(result))\n"
     ]
    },
    {
     "name": "stdout",
     "output_type": "stream",
     "text": [
      "Epoch 14/75, Train Loss: 2.1816, Val Loss: 2.1163, Val Acc: 0.3089, Val Prec: 0.3077, Val Recall: 0.3089, Val F1: 0.2390\n"
     ]
    },
    {
     "name": "stderr",
     "output_type": "stream",
     "text": [
      "Epoch 15\\75 [Training]: 100%|██████████| 310/310 [02:46<00:00,  1.87it/s]\n",
      "Epoch 15/75 [Validation]: 100%|██████████| 78/78 [00:35<00:00,  2.21it/s]\n",
      "c:\\Users\\boris\\anaconda3\\envs\\conda_env_24_25\\lib\\site-packages\\sklearn\\metrics\\_classification.py:1471: UndefinedMetricWarning: Precision is ill-defined and being set to 0.0 in labels with no predicted samples. Use `zero_division` parameter to control this behavior.\n",
      "  _warn_prf(average, modifier, msg_start, len(result))\n"
     ]
    },
    {
     "name": "stdout",
     "output_type": "stream",
     "text": [
      "Epoch 15/75, Train Loss: 2.1591, Val Loss: 2.0706, Val Acc: 0.3267, Val Prec: 0.3352, Val Recall: 0.3267, Val F1: 0.2608\n"
     ]
    },
    {
     "name": "stderr",
     "output_type": "stream",
     "text": [
      "Epoch 16\\75 [Training]: 100%|██████████| 310/310 [02:40<00:00,  1.93it/s]\n",
      "Epoch 16/75 [Validation]: 100%|██████████| 78/78 [00:35<00:00,  2.19it/s]\n",
      "c:\\Users\\boris\\anaconda3\\envs\\conda_env_24_25\\lib\\site-packages\\sklearn\\metrics\\_classification.py:1471: UndefinedMetricWarning: Precision is ill-defined and being set to 0.0 in labels with no predicted samples. Use `zero_division` parameter to control this behavior.\n",
      "  _warn_prf(average, modifier, msg_start, len(result))\n"
     ]
    },
    {
     "name": "stdout",
     "output_type": "stream",
     "text": [
      "Epoch 16/75, Train Loss: 2.1314, Val Loss: 2.0945, Val Acc: 0.3247, Val Prec: 0.3265, Val Recall: 0.3247, Val F1: 0.2745\n"
     ]
    },
    {
     "name": "stderr",
     "output_type": "stream",
     "text": [
      "Epoch 17\\75 [Training]: 100%|██████████| 310/310 [02:41<00:00,  1.91it/s]\n",
      "Epoch 17/75 [Validation]: 100%|██████████| 78/78 [00:35<00:00,  2.17it/s]\n",
      "c:\\Users\\boris\\anaconda3\\envs\\conda_env_24_25\\lib\\site-packages\\sklearn\\metrics\\_classification.py:1471: UndefinedMetricWarning: Precision is ill-defined and being set to 0.0 in labels with no predicted samples. Use `zero_division` parameter to control this behavior.\n",
      "  _warn_prf(average, modifier, msg_start, len(result))\n"
     ]
    },
    {
     "name": "stdout",
     "output_type": "stream",
     "text": [
      "Epoch 17/75, Train Loss: 2.1056, Val Loss: 2.0525, Val Acc: 0.3429, Val Prec: 0.3337, Val Recall: 0.3429, Val F1: 0.2858\n"
     ]
    },
    {
     "name": "stderr",
     "output_type": "stream",
     "text": [
      "Epoch 18\\75 [Training]: 100%|██████████| 310/310 [02:38<00:00,  1.96it/s]\n",
      "Epoch 18/75 [Validation]: 100%|██████████| 78/78 [00:35<00:00,  2.21it/s]\n",
      "c:\\Users\\boris\\anaconda3\\envs\\conda_env_24_25\\lib\\site-packages\\sklearn\\metrics\\_classification.py:1471: UndefinedMetricWarning: Precision is ill-defined and being set to 0.0 in labels with no predicted samples. Use `zero_division` parameter to control this behavior.\n",
      "  _warn_prf(average, modifier, msg_start, len(result))\n"
     ]
    },
    {
     "name": "stdout",
     "output_type": "stream",
     "text": [
      "Epoch 18/75, Train Loss: 2.0918, Val Loss: 2.0192, Val Acc: 0.3469, Val Prec: 0.3287, Val Recall: 0.3469, Val F1: 0.2826\n"
     ]
    },
    {
     "name": "stderr",
     "output_type": "stream",
     "text": [
      "Epoch 19\\75 [Training]: 100%|██████████| 310/310 [02:47<00:00,  1.85it/s]\n",
      "Epoch 19/75 [Validation]: 100%|██████████| 78/78 [00:42<00:00,  1.85it/s]\n",
      "c:\\Users\\boris\\anaconda3\\envs\\conda_env_24_25\\lib\\site-packages\\sklearn\\metrics\\_classification.py:1471: UndefinedMetricWarning: Precision is ill-defined and being set to 0.0 in labels with no predicted samples. Use `zero_division` parameter to control this behavior.\n",
      "  _warn_prf(average, modifier, msg_start, len(result))\n"
     ]
    },
    {
     "name": "stdout",
     "output_type": "stream",
     "text": [
      "Epoch 19/75, Train Loss: 2.0713, Val Loss: 2.0087, Val Acc: 0.3522, Val Prec: 0.3210, Val Recall: 0.3522, Val F1: 0.3022\n"
     ]
    },
    {
     "name": "stderr",
     "output_type": "stream",
     "text": [
      "Epoch 20\\75 [Training]: 100%|██████████| 310/310 [03:10<00:00,  1.63it/s]\n",
      "Epoch 20/75 [Validation]: 100%|██████████| 78/78 [00:38<00:00,  2.02it/s]\n",
      "c:\\Users\\boris\\anaconda3\\envs\\conda_env_24_25\\lib\\site-packages\\sklearn\\metrics\\_classification.py:1471: UndefinedMetricWarning: Precision is ill-defined and being set to 0.0 in labels with no predicted samples. Use `zero_division` parameter to control this behavior.\n",
      "  _warn_prf(average, modifier, msg_start, len(result))\n"
     ]
    },
    {
     "name": "stdout",
     "output_type": "stream",
     "text": [
      "Epoch 20/75, Train Loss: 2.0362, Val Loss: 1.9595, Val Acc: 0.3651, Val Prec: 0.3444, Val Recall: 0.3651, Val F1: 0.3218\n"
     ]
    },
    {
     "name": "stderr",
     "output_type": "stream",
     "text": [
      "Epoch 21\\75 [Training]: 100%|██████████| 310/310 [02:51<00:00,  1.81it/s]\n",
      "Epoch 21/75 [Validation]: 100%|██████████| 78/78 [00:38<00:00,  2.04it/s]\n",
      "c:\\Users\\boris\\anaconda3\\envs\\conda_env_24_25\\lib\\site-packages\\sklearn\\metrics\\_classification.py:1471: UndefinedMetricWarning: Precision is ill-defined and being set to 0.0 in labels with no predicted samples. Use `zero_division` parameter to control this behavior.\n",
      "  _warn_prf(average, modifier, msg_start, len(result))\n"
     ]
    },
    {
     "name": "stdout",
     "output_type": "stream",
     "text": [
      "Epoch 21/75, Train Loss: 2.0060, Val Loss: 1.9910, Val Acc: 0.3567, Val Prec: 0.3811, Val Recall: 0.3567, Val F1: 0.3070\n"
     ]
    },
    {
     "name": "stderr",
     "output_type": "stream",
     "text": [
      "Epoch 22\\75 [Training]: 100%|██████████| 310/310 [02:50<00:00,  1.82it/s]\n",
      "Epoch 22/75 [Validation]: 100%|██████████| 78/78 [00:37<00:00,  2.08it/s]\n",
      "c:\\Users\\boris\\anaconda3\\envs\\conda_env_24_25\\lib\\site-packages\\sklearn\\metrics\\_classification.py:1471: UndefinedMetricWarning: Precision is ill-defined and being set to 0.0 in labels with no predicted samples. Use `zero_division` parameter to control this behavior.\n",
      "  _warn_prf(average, modifier, msg_start, len(result))\n"
     ]
    },
    {
     "name": "stdout",
     "output_type": "stream",
     "text": [
      "Epoch 22/75, Train Loss: 1.9684, Val Loss: 1.9556, Val Acc: 0.3757, Val Prec: 0.3531, Val Recall: 0.3757, Val F1: 0.3291\n"
     ]
    },
    {
     "name": "stderr",
     "output_type": "stream",
     "text": [
      "Epoch 23\\75 [Training]: 100%|██████████| 310/310 [02:53<00:00,  1.78it/s]\n",
      "Epoch 23/75 [Validation]: 100%|██████████| 78/78 [00:46<00:00,  1.69it/s]\n",
      "c:\\Users\\boris\\anaconda3\\envs\\conda_env_24_25\\lib\\site-packages\\sklearn\\metrics\\_classification.py:1471: UndefinedMetricWarning: Precision is ill-defined and being set to 0.0 in labels with no predicted samples. Use `zero_division` parameter to control this behavior.\n",
      "  _warn_prf(average, modifier, msg_start, len(result))\n"
     ]
    },
    {
     "name": "stdout",
     "output_type": "stream",
     "text": [
      "Epoch 23/75, Train Loss: 1.9585, Val Loss: 1.9515, Val Acc: 0.3724, Val Prec: 0.3676, Val Recall: 0.3724, Val F1: 0.3275\n"
     ]
    },
    {
     "name": "stderr",
     "output_type": "stream",
     "text": [
      "Epoch 24\\75 [Training]: 100%|██████████| 310/310 [04:00<00:00,  1.29it/s]\n",
      "Epoch 24/75 [Validation]: 100%|██████████| 78/78 [00:46<00:00,  1.67it/s]\n",
      "c:\\Users\\boris\\anaconda3\\envs\\conda_env_24_25\\lib\\site-packages\\sklearn\\metrics\\_classification.py:1471: UndefinedMetricWarning: Precision is ill-defined and being set to 0.0 in labels with no predicted samples. Use `zero_division` parameter to control this behavior.\n",
      "  _warn_prf(average, modifier, msg_start, len(result))\n"
     ]
    },
    {
     "name": "stdout",
     "output_type": "stream",
     "text": [
      "Epoch 24/75, Train Loss: 1.9256, Val Loss: 1.9253, Val Acc: 0.3837, Val Prec: 0.3811, Val Recall: 0.3837, Val F1: 0.3425\n"
     ]
    },
    {
     "name": "stderr",
     "output_type": "stream",
     "text": [
      "Epoch 25\\75 [Training]: 100%|██████████| 310/310 [03:09<00:00,  1.64it/s]\n",
      "Epoch 25/75 [Validation]: 100%|██████████| 78/78 [00:41<00:00,  1.88it/s]\n",
      "c:\\Users\\boris\\anaconda3\\envs\\conda_env_24_25\\lib\\site-packages\\sklearn\\metrics\\_classification.py:1471: UndefinedMetricWarning: Precision is ill-defined and being set to 0.0 in labels with no predicted samples. Use `zero_division` parameter to control this behavior.\n",
      "  _warn_prf(average, modifier, msg_start, len(result))\n"
     ]
    },
    {
     "name": "stdout",
     "output_type": "stream",
     "text": [
      "Epoch 25/75, Train Loss: 1.9199, Val Loss: 1.8991, Val Acc: 0.3841, Val Prec: 0.4338, Val Recall: 0.3841, Val F1: 0.3484\n"
     ]
    },
    {
     "name": "stderr",
     "output_type": "stream",
     "text": [
      "Epoch 26\\75 [Training]: 100%|██████████| 310/310 [03:09<00:00,  1.63it/s]\n",
      "Epoch 26/75 [Validation]: 100%|██████████| 78/78 [00:41<00:00,  1.90it/s]\n",
      "c:\\Users\\boris\\anaconda3\\envs\\conda_env_24_25\\lib\\site-packages\\sklearn\\metrics\\_classification.py:1471: UndefinedMetricWarning: Precision is ill-defined and being set to 0.0 in labels with no predicted samples. Use `zero_division` parameter to control this behavior.\n",
      "  _warn_prf(average, modifier, msg_start, len(result))\n"
     ]
    },
    {
     "name": "stdout",
     "output_type": "stream",
     "text": [
      "Epoch 26/75, Train Loss: 1.8646, Val Loss: 1.8885, Val Acc: 0.4011, Val Prec: 0.4636, Val Recall: 0.4011, Val F1: 0.3562\n"
     ]
    },
    {
     "name": "stderr",
     "output_type": "stream",
     "text": [
      "Epoch 27\\75 [Training]: 100%|██████████| 310/310 [03:19<00:00,  1.55it/s]\n",
      "Epoch 27/75 [Validation]: 100%|██████████| 78/78 [00:43<00:00,  1.81it/s]\n",
      "c:\\Users\\boris\\anaconda3\\envs\\conda_env_24_25\\lib\\site-packages\\sklearn\\metrics\\_classification.py:1471: UndefinedMetricWarning: Precision is ill-defined and being set to 0.0 in labels with no predicted samples. Use `zero_division` parameter to control this behavior.\n",
      "  _warn_prf(average, modifier, msg_start, len(result))\n"
     ]
    },
    {
     "name": "stdout",
     "output_type": "stream",
     "text": [
      "Epoch 27/75, Train Loss: 1.8722, Val Loss: 1.8602, Val Acc: 0.3955, Val Prec: 0.3991, Val Recall: 0.3955, Val F1: 0.3504\n"
     ]
    },
    {
     "name": "stderr",
     "output_type": "stream",
     "text": [
      "Epoch 28\\75 [Training]: 100%|██████████| 310/310 [02:53<00:00,  1.79it/s]\n",
      "Epoch 28/75 [Validation]: 100%|██████████| 78/78 [00:38<00:00,  2.03it/s]\n",
      "c:\\Users\\boris\\anaconda3\\envs\\conda_env_24_25\\lib\\site-packages\\sklearn\\metrics\\_classification.py:1471: UndefinedMetricWarning: Precision is ill-defined and being set to 0.0 in labels with no predicted samples. Use `zero_division` parameter to control this behavior.\n",
      "  _warn_prf(average, modifier, msg_start, len(result))\n"
     ]
    },
    {
     "name": "stdout",
     "output_type": "stream",
     "text": [
      "Epoch 28/75, Train Loss: 1.8372, Val Loss: 1.8832, Val Acc: 0.3926, Val Prec: 0.4476, Val Recall: 0.3926, Val F1: 0.3593\n"
     ]
    },
    {
     "name": "stderr",
     "output_type": "stream",
     "text": [
      "Epoch 29\\75 [Training]: 100%|██████████| 310/310 [02:46<00:00,  1.87it/s]\n",
      "Epoch 29/75 [Validation]: 100%|██████████| 78/78 [00:35<00:00,  2.18it/s]\n",
      "c:\\Users\\boris\\anaconda3\\envs\\conda_env_24_25\\lib\\site-packages\\sklearn\\metrics\\_classification.py:1471: UndefinedMetricWarning: Precision is ill-defined and being set to 0.0 in labels with no predicted samples. Use `zero_division` parameter to control this behavior.\n",
      "  _warn_prf(average, modifier, msg_start, len(result))\n"
     ]
    },
    {
     "name": "stdout",
     "output_type": "stream",
     "text": [
      "Epoch 29/75, Train Loss: 1.8195, Val Loss: 1.8454, Val Acc: 0.4044, Val Prec: 0.4567, Val Recall: 0.4044, Val F1: 0.3694\n"
     ]
    },
    {
     "name": "stderr",
     "output_type": "stream",
     "text": [
      "Epoch 30\\75 [Training]: 100%|██████████| 310/310 [02:41<00:00,  1.92it/s]\n",
      "Epoch 30/75 [Validation]: 100%|██████████| 78/78 [00:36<00:00,  2.15it/s]\n",
      "c:\\Users\\boris\\anaconda3\\envs\\conda_env_24_25\\lib\\site-packages\\sklearn\\metrics\\_classification.py:1471: UndefinedMetricWarning: Precision is ill-defined and being set to 0.0 in labels with no predicted samples. Use `zero_division` parameter to control this behavior.\n",
      "  _warn_prf(average, modifier, msg_start, len(result))\n"
     ]
    },
    {
     "name": "stdout",
     "output_type": "stream",
     "text": [
      "Epoch 30/75, Train Loss: 1.8026, Val Loss: 1.8308, Val Acc: 0.4209, Val Prec: 0.4571, Val Recall: 0.4209, Val F1: 0.3889\n"
     ]
    },
    {
     "name": "stderr",
     "output_type": "stream",
     "text": [
      "Epoch 31\\75 [Training]: 100%|██████████| 310/310 [02:41<00:00,  1.92it/s]\n",
      "Epoch 31/75 [Validation]: 100%|██████████| 78/78 [00:35<00:00,  2.20it/s]\n",
      "c:\\Users\\boris\\anaconda3\\envs\\conda_env_24_25\\lib\\site-packages\\sklearn\\metrics\\_classification.py:1471: UndefinedMetricWarning: Precision is ill-defined and being set to 0.0 in labels with no predicted samples. Use `zero_division` parameter to control this behavior.\n",
      "  _warn_prf(average, modifier, msg_start, len(result))\n"
     ]
    },
    {
     "name": "stdout",
     "output_type": "stream",
     "text": [
      "Epoch 31/75, Train Loss: 1.7688, Val Loss: 1.8114, Val Acc: 0.4173, Val Prec: 0.4685, Val Recall: 0.4173, Val F1: 0.3765\n"
     ]
    },
    {
     "name": "stderr",
     "output_type": "stream",
     "text": [
      "Epoch 32\\75 [Training]: 100%|██████████| 310/310 [02:41<00:00,  1.92it/s]\n",
      "Epoch 32/75 [Validation]: 100%|██████████| 78/78 [00:36<00:00,  2.16it/s]\n",
      "c:\\Users\\boris\\anaconda3\\envs\\conda_env_24_25\\lib\\site-packages\\sklearn\\metrics\\_classification.py:1471: UndefinedMetricWarning: Precision is ill-defined and being set to 0.0 in labels with no predicted samples. Use `zero_division` parameter to control this behavior.\n",
      "  _warn_prf(average, modifier, msg_start, len(result))\n"
     ]
    },
    {
     "name": "stdout",
     "output_type": "stream",
     "text": [
      "Epoch 32/75, Train Loss: 1.7517, Val Loss: 1.7839, Val Acc: 0.4258, Val Prec: 0.4719, Val Recall: 0.4258, Val F1: 0.3887\n"
     ]
    },
    {
     "name": "stderr",
     "output_type": "stream",
     "text": [
      "Epoch 33\\75 [Training]: 100%|██████████| 310/310 [02:40<00:00,  1.93it/s]\n",
      "Epoch 33/75 [Validation]: 100%|██████████| 78/78 [00:36<00:00,  2.13it/s]\n",
      "c:\\Users\\boris\\anaconda3\\envs\\conda_env_24_25\\lib\\site-packages\\sklearn\\metrics\\_classification.py:1471: UndefinedMetricWarning: Precision is ill-defined and being set to 0.0 in labels with no predicted samples. Use `zero_division` parameter to control this behavior.\n",
      "  _warn_prf(average, modifier, msg_start, len(result))\n"
     ]
    },
    {
     "name": "stdout",
     "output_type": "stream",
     "text": [
      "Epoch 33/75, Train Loss: 1.7114, Val Loss: 1.7654, Val Acc: 0.4448, Val Prec: 0.5109, Val Recall: 0.4448, Val F1: 0.4142\n"
     ]
    },
    {
     "name": "stderr",
     "output_type": "stream",
     "text": [
      "Epoch 34\\75 [Training]: 100%|██████████| 310/310 [02:39<00:00,  1.95it/s]\n",
      "Epoch 34/75 [Validation]: 100%|██████████| 78/78 [00:35<00:00,  2.23it/s]\n",
      "c:\\Users\\boris\\anaconda3\\envs\\conda_env_24_25\\lib\\site-packages\\sklearn\\metrics\\_classification.py:1471: UndefinedMetricWarning: Precision is ill-defined and being set to 0.0 in labels with no predicted samples. Use `zero_division` parameter to control this behavior.\n",
      "  _warn_prf(average, modifier, msg_start, len(result))\n"
     ]
    },
    {
     "name": "stdout",
     "output_type": "stream",
     "text": [
      "Epoch 34/75, Train Loss: 1.7103, Val Loss: 1.7654, Val Acc: 0.4395, Val Prec: 0.4891, Val Recall: 0.4395, Val F1: 0.4122\n"
     ]
    },
    {
     "name": "stderr",
     "output_type": "stream",
     "text": [
      "Epoch 35\\75 [Training]: 100%|██████████| 310/310 [02:41<00:00,  1.92it/s]\n",
      "Epoch 35/75 [Validation]: 100%|██████████| 78/78 [00:35<00:00,  2.20it/s]\n",
      "c:\\Users\\boris\\anaconda3\\envs\\conda_env_24_25\\lib\\site-packages\\sklearn\\metrics\\_classification.py:1471: UndefinedMetricWarning: Precision is ill-defined and being set to 0.0 in labels with no predicted samples. Use `zero_division` parameter to control this behavior.\n",
      "  _warn_prf(average, modifier, msg_start, len(result))\n"
     ]
    },
    {
     "name": "stdout",
     "output_type": "stream",
     "text": [
      "Epoch 35/75, Train Loss: 1.7010, Val Loss: 1.7684, Val Acc: 0.4420, Val Prec: 0.5244, Val Recall: 0.4420, Val F1: 0.4109\n"
     ]
    },
    {
     "name": "stderr",
     "output_type": "stream",
     "text": [
      "Epoch 36\\75 [Training]: 100%|██████████| 310/310 [03:02<00:00,  1.70it/s]\n",
      "Epoch 36/75 [Validation]: 100%|██████████| 78/78 [00:48<00:00,  1.60it/s]\n",
      "c:\\Users\\boris\\anaconda3\\envs\\conda_env_24_25\\lib\\site-packages\\sklearn\\metrics\\_classification.py:1471: UndefinedMetricWarning: Precision is ill-defined and being set to 0.0 in labels with no predicted samples. Use `zero_division` parameter to control this behavior.\n",
      "  _warn_prf(average, modifier, msg_start, len(result))\n"
     ]
    },
    {
     "name": "stdout",
     "output_type": "stream",
     "text": [
      "Epoch 36/75, Train Loss: 1.6846, Val Loss: 1.7532, Val Acc: 0.4476, Val Prec: 0.5194, Val Recall: 0.4476, Val F1: 0.4235\n"
     ]
    },
    {
     "name": "stderr",
     "output_type": "stream",
     "text": [
      "Epoch 37\\75 [Training]: 100%|██████████| 310/310 [03:23<00:00,  1.52it/s]\n",
      "Epoch 37/75 [Validation]: 100%|██████████| 78/78 [00:45<00:00,  1.73it/s]\n",
      "c:\\Users\\boris\\anaconda3\\envs\\conda_env_24_25\\lib\\site-packages\\sklearn\\metrics\\_classification.py:1471: UndefinedMetricWarning: Precision is ill-defined and being set to 0.0 in labels with no predicted samples. Use `zero_division` parameter to control this behavior.\n",
      "  _warn_prf(average, modifier, msg_start, len(result))\n"
     ]
    },
    {
     "name": "stdout",
     "output_type": "stream",
     "text": [
      "Epoch 37/75, Train Loss: 1.6488, Val Loss: 1.7625, Val Acc: 0.4383, Val Prec: 0.5192, Val Recall: 0.4383, Val F1: 0.4047\n"
     ]
    },
    {
     "name": "stderr",
     "output_type": "stream",
     "text": [
      "Epoch 38\\75 [Training]: 100%|██████████| 310/310 [03:08<00:00,  1.64it/s]\n",
      "Epoch 38/75 [Validation]: 100%|██████████| 78/78 [00:44<00:00,  1.74it/s]\n",
      "c:\\Users\\boris\\anaconda3\\envs\\conda_env_24_25\\lib\\site-packages\\sklearn\\metrics\\_classification.py:1471: UndefinedMetricWarning: Precision is ill-defined and being set to 0.0 in labels with no predicted samples. Use `zero_division` parameter to control this behavior.\n",
      "  _warn_prf(average, modifier, msg_start, len(result))\n"
     ]
    },
    {
     "name": "stdout",
     "output_type": "stream",
     "text": [
      "Epoch 38/75, Train Loss: 1.6414, Val Loss: 1.7475, Val Acc: 0.4391, Val Prec: 0.4698, Val Recall: 0.4391, Val F1: 0.4099\n"
     ]
    },
    {
     "name": "stderr",
     "output_type": "stream",
     "text": [
      "Epoch 39\\75 [Training]: 100%|██████████| 310/310 [03:12<00:00,  1.61it/s]\n",
      "Epoch 39/75 [Validation]: 100%|██████████| 78/78 [00:44<00:00,  1.76it/s]\n",
      "c:\\Users\\boris\\anaconda3\\envs\\conda_env_24_25\\lib\\site-packages\\sklearn\\metrics\\_classification.py:1471: UndefinedMetricWarning: Precision is ill-defined and being set to 0.0 in labels with no predicted samples. Use `zero_division` parameter to control this behavior.\n",
      "  _warn_prf(average, modifier, msg_start, len(result))\n"
     ]
    },
    {
     "name": "stdout",
     "output_type": "stream",
     "text": [
      "Epoch 39/75, Train Loss: 1.6172, Val Loss: 1.7235, Val Acc: 0.4541, Val Prec: 0.5477, Val Recall: 0.4541, Val F1: 0.4274\n"
     ]
    },
    {
     "name": "stderr",
     "output_type": "stream",
     "text": [
      "Epoch 40\\75 [Training]: 100%|██████████| 310/310 [02:53<00:00,  1.79it/s]\n",
      "Epoch 40/75 [Validation]: 100%|██████████| 78/78 [00:36<00:00,  2.15it/s]\n",
      "c:\\Users\\boris\\anaconda3\\envs\\conda_env_24_25\\lib\\site-packages\\sklearn\\metrics\\_classification.py:1471: UndefinedMetricWarning: Precision is ill-defined and being set to 0.0 in labels with no predicted samples. Use `zero_division` parameter to control this behavior.\n",
      "  _warn_prf(average, modifier, msg_start, len(result))\n"
     ]
    },
    {
     "name": "stdout",
     "output_type": "stream",
     "text": [
      "Epoch 40/75, Train Loss: 1.6098, Val Loss: 1.7234, Val Acc: 0.4594, Val Prec: 0.5506, Val Recall: 0.4594, Val F1: 0.4303\n"
     ]
    },
    {
     "name": "stderr",
     "output_type": "stream",
     "text": [
      "Epoch 41\\75 [Training]: 100%|██████████| 310/310 [03:12<00:00,  1.61it/s]\n",
      "Epoch 41/75 [Validation]: 100%|██████████| 78/78 [00:45<00:00,  1.73it/s]\n",
      "c:\\Users\\boris\\anaconda3\\envs\\conda_env_24_25\\lib\\site-packages\\sklearn\\metrics\\_classification.py:1471: UndefinedMetricWarning: Precision is ill-defined and being set to 0.0 in labels with no predicted samples. Use `zero_division` parameter to control this behavior.\n",
      "  _warn_prf(average, modifier, msg_start, len(result))\n"
     ]
    },
    {
     "name": "stdout",
     "output_type": "stream",
     "text": [
      "Epoch 41/75, Train Loss: 1.5940, Val Loss: 1.6873, Val Acc: 0.4650, Val Prec: 0.5094, Val Recall: 0.4650, Val F1: 0.4391\n"
     ]
    },
    {
     "name": "stderr",
     "output_type": "stream",
     "text": [
      "Epoch 42\\75 [Training]: 100%|██████████| 310/310 [03:17<00:00,  1.57it/s]\n",
      "Epoch 42/75 [Validation]: 100%|██████████| 78/78 [00:37<00:00,  2.09it/s]\n",
      "c:\\Users\\boris\\anaconda3\\envs\\conda_env_24_25\\lib\\site-packages\\sklearn\\metrics\\_classification.py:1471: UndefinedMetricWarning: Precision is ill-defined and being set to 0.0 in labels with no predicted samples. Use `zero_division` parameter to control this behavior.\n",
      "  _warn_prf(average, modifier, msg_start, len(result))\n"
     ]
    },
    {
     "name": "stdout",
     "output_type": "stream",
     "text": [
      "Epoch 42/75, Train Loss: 1.5505, Val Loss: 1.6842, Val Acc: 0.4767, Val Prec: 0.5151, Val Recall: 0.4767, Val F1: 0.4488\n"
     ]
    },
    {
     "name": "stderr",
     "output_type": "stream",
     "text": [
      "Epoch 43\\75 [Training]: 100%|██████████| 310/310 [02:47<00:00,  1.85it/s]\n",
      "Epoch 43/75 [Validation]: 100%|██████████| 78/78 [00:36<00:00,  2.12it/s]\n"
     ]
    },
    {
     "name": "stdout",
     "output_type": "stream",
     "text": [
      "Epoch 43/75, Train Loss: 1.5497, Val Loss: 1.6583, Val Acc: 0.4804, Val Prec: 0.5288, Val Recall: 0.4804, Val F1: 0.4551\n"
     ]
    },
    {
     "name": "stderr",
     "output_type": "stream",
     "text": [
      "Epoch 44\\75 [Training]: 100%|██████████| 310/310 [02:46<00:00,  1.86it/s]\n",
      "Epoch 44/75 [Validation]: 100%|██████████| 78/78 [00:41<00:00,  1.88it/s]\n",
      "c:\\Users\\boris\\anaconda3\\envs\\conda_env_24_25\\lib\\site-packages\\sklearn\\metrics\\_classification.py:1471: UndefinedMetricWarning: Precision is ill-defined and being set to 0.0 in labels with no predicted samples. Use `zero_division` parameter to control this behavior.\n",
      "  _warn_prf(average, modifier, msg_start, len(result))\n"
     ]
    },
    {
     "name": "stdout",
     "output_type": "stream",
     "text": [
      "Epoch 44/75, Train Loss: 1.5232, Val Loss: 1.6924, Val Acc: 0.4577, Val Prec: 0.5020, Val Recall: 0.4577, Val F1: 0.4362\n"
     ]
    },
    {
     "name": "stderr",
     "output_type": "stream",
     "text": [
      "Epoch 45\\75 [Training]: 100%|██████████| 310/310 [03:22<00:00,  1.53it/s]\n",
      "Epoch 45/75 [Validation]: 100%|██████████| 78/78 [00:43<00:00,  1.80it/s]\n"
     ]
    },
    {
     "name": "stdout",
     "output_type": "stream",
     "text": [
      "Epoch 45/75, Train Loss: 1.5183, Val Loss: 1.6978, Val Acc: 0.4683, Val Prec: 0.5290, Val Recall: 0.4683, Val F1: 0.4459\n"
     ]
    },
    {
     "name": "stderr",
     "output_type": "stream",
     "text": [
      "Epoch 46\\75 [Training]: 100%|██████████| 310/310 [03:13<00:00,  1.60it/s]\n",
      "Epoch 46/75 [Validation]: 100%|██████████| 78/78 [00:42<00:00,  1.85it/s]\n",
      "c:\\Users\\boris\\anaconda3\\envs\\conda_env_24_25\\lib\\site-packages\\sklearn\\metrics\\_classification.py:1471: UndefinedMetricWarning: Precision is ill-defined and being set to 0.0 in labels with no predicted samples. Use `zero_division` parameter to control this behavior.\n",
      "  _warn_prf(average, modifier, msg_start, len(result))\n"
     ]
    },
    {
     "name": "stdout",
     "output_type": "stream",
     "text": [
      "Epoch 46/75, Train Loss: 1.4737, Val Loss: 1.6693, Val Acc: 0.4723, Val Prec: 0.5262, Val Recall: 0.4723, Val F1: 0.4525\n"
     ]
    },
    {
     "name": "stderr",
     "output_type": "stream",
     "text": [
      "Epoch 47\\75 [Training]: 100%|██████████| 310/310 [03:10<00:00,  1.63it/s]\n",
      "Epoch 47/75 [Validation]: 100%|██████████| 78/78 [00:45<00:00,  1.72it/s]\n",
      "c:\\Users\\boris\\anaconda3\\envs\\conda_env_24_25\\lib\\site-packages\\sklearn\\metrics\\_classification.py:1471: UndefinedMetricWarning: Precision is ill-defined and being set to 0.0 in labels with no predicted samples. Use `zero_division` parameter to control this behavior.\n",
      "  _warn_prf(average, modifier, msg_start, len(result))\n"
     ]
    },
    {
     "name": "stdout",
     "output_type": "stream",
     "text": [
      "Epoch 47/75, Train Loss: 1.4781, Val Loss: 1.6900, Val Acc: 0.4780, Val Prec: 0.5453, Val Recall: 0.4780, Val F1: 0.4553\n"
     ]
    },
    {
     "name": "stderr",
     "output_type": "stream",
     "text": [
      "Epoch 48\\75 [Training]: 100%|██████████| 310/310 [03:15<00:00,  1.59it/s]\n",
      "Epoch 48/75 [Validation]: 100%|██████████| 78/78 [00:44<00:00,  1.77it/s]\n",
      "c:\\Users\\boris\\anaconda3\\envs\\conda_env_24_25\\lib\\site-packages\\sklearn\\metrics\\_classification.py:1471: UndefinedMetricWarning: Precision is ill-defined and being set to 0.0 in labels with no predicted samples. Use `zero_division` parameter to control this behavior.\n",
      "  _warn_prf(average, modifier, msg_start, len(result))\n"
     ]
    },
    {
     "name": "stdout",
     "output_type": "stream",
     "text": [
      "Epoch 48/75, Train Loss: 1.4826, Val Loss: 1.6648, Val Acc: 0.4751, Val Prec: 0.5300, Val Recall: 0.4751, Val F1: 0.4536\n"
     ]
    },
    {
     "name": "stderr",
     "output_type": "stream",
     "text": [
      "Epoch 49\\75 [Training]: 100%|██████████| 310/310 [03:18<00:00,  1.57it/s]\n",
      "Epoch 49/75 [Validation]: 100%|██████████| 78/78 [00:45<00:00,  1.72it/s]\n",
      "c:\\Users\\boris\\anaconda3\\envs\\conda_env_24_25\\lib\\site-packages\\sklearn\\metrics\\_classification.py:1471: UndefinedMetricWarning: Precision is ill-defined and being set to 0.0 in labels with no predicted samples. Use `zero_division` parameter to control this behavior.\n",
      "  _warn_prf(average, modifier, msg_start, len(result))\n"
     ]
    },
    {
     "name": "stdout",
     "output_type": "stream",
     "text": [
      "Epoch 49/75, Train Loss: 1.4538, Val Loss: 1.6853, Val Acc: 0.4662, Val Prec: 0.5172, Val Recall: 0.4662, Val F1: 0.4428\n"
     ]
    },
    {
     "name": "stderr",
     "output_type": "stream",
     "text": [
      "Epoch 50\\75 [Training]: 100%|██████████| 310/310 [03:29<00:00,  1.48it/s]\n",
      "Epoch 50/75 [Validation]: 100%|██████████| 78/78 [00:46<00:00,  1.67it/s]\n",
      "c:\\Users\\boris\\anaconda3\\envs\\conda_env_24_25\\lib\\site-packages\\sklearn\\metrics\\_classification.py:1471: UndefinedMetricWarning: Precision is ill-defined and being set to 0.0 in labels with no predicted samples. Use `zero_division` parameter to control this behavior.\n",
      "  _warn_prf(average, modifier, msg_start, len(result))\n"
     ]
    },
    {
     "name": "stdout",
     "output_type": "stream",
     "text": [
      "Epoch 50/75, Train Loss: 1.3738, Val Loss: 1.6245, Val Acc: 0.4820, Val Prec: 0.5250, Val Recall: 0.4820, Val F1: 0.4678\n"
     ]
    },
    {
     "name": "stderr",
     "output_type": "stream",
     "text": [
      "Epoch 51\\75 [Training]: 100%|██████████| 310/310 [03:20<00:00,  1.55it/s]\n",
      "Epoch 51/75 [Validation]: 100%|██████████| 78/78 [00:43<00:00,  1.78it/s]\n",
      "c:\\Users\\boris\\anaconda3\\envs\\conda_env_24_25\\lib\\site-packages\\sklearn\\metrics\\_classification.py:1471: UndefinedMetricWarning: Precision is ill-defined and being set to 0.0 in labels with no predicted samples. Use `zero_division` parameter to control this behavior.\n",
      "  _warn_prf(average, modifier, msg_start, len(result))\n"
     ]
    },
    {
     "name": "stdout",
     "output_type": "stream",
     "text": [
      "Epoch 51/75, Train Loss: 1.3518, Val Loss: 1.5971, Val Acc: 0.5026, Val Prec: 0.5334, Val Recall: 0.5026, Val F1: 0.4852\n"
     ]
    },
    {
     "name": "stderr",
     "output_type": "stream",
     "text": [
      "Epoch 52\\75 [Training]: 100%|██████████| 310/310 [03:13<00:00,  1.60it/s]\n",
      "Epoch 52/75 [Validation]: 100%|██████████| 78/78 [00:43<00:00,  1.80it/s]\n",
      "c:\\Users\\boris\\anaconda3\\envs\\conda_env_24_25\\lib\\site-packages\\sklearn\\metrics\\_classification.py:1471: UndefinedMetricWarning: Precision is ill-defined and being set to 0.0 in labels with no predicted samples. Use `zero_division` parameter to control this behavior.\n",
      "  _warn_prf(average, modifier, msg_start, len(result))\n"
     ]
    },
    {
     "name": "stdout",
     "output_type": "stream",
     "text": [
      "Epoch 52/75, Train Loss: 1.3403, Val Loss: 1.5913, Val Acc: 0.4974, Val Prec: 0.5312, Val Recall: 0.4974, Val F1: 0.4795\n"
     ]
    },
    {
     "name": "stderr",
     "output_type": "stream",
     "text": [
      "Epoch 53\\75 [Training]: 100%|██████████| 310/310 [03:18<00:00,  1.56it/s]\n",
      "Epoch 53/75 [Validation]: 100%|██████████| 78/78 [00:43<00:00,  1.78it/s]\n",
      "c:\\Users\\boris\\anaconda3\\envs\\conda_env_24_25\\lib\\site-packages\\sklearn\\metrics\\_classification.py:1471: UndefinedMetricWarning: Precision is ill-defined and being set to 0.0 in labels with no predicted samples. Use `zero_division` parameter to control this behavior.\n",
      "  _warn_prf(average, modifier, msg_start, len(result))\n"
     ]
    },
    {
     "name": "stdout",
     "output_type": "stream",
     "text": [
      "Epoch 53/75, Train Loss: 1.3241, Val Loss: 1.5755, Val Acc: 0.5034, Val Prec: 0.5454, Val Recall: 0.5034, Val F1: 0.4904\n"
     ]
    },
    {
     "name": "stderr",
     "output_type": "stream",
     "text": [
      "Epoch 54\\75 [Training]: 100%|██████████| 310/310 [03:09<00:00,  1.64it/s]\n",
      "Epoch 54/75 [Validation]: 100%|██████████| 78/78 [00:36<00:00,  2.15it/s]\n",
      "c:\\Users\\boris\\anaconda3\\envs\\conda_env_24_25\\lib\\site-packages\\sklearn\\metrics\\_classification.py:1471: UndefinedMetricWarning: Precision is ill-defined and being set to 0.0 in labels with no predicted samples. Use `zero_division` parameter to control this behavior.\n",
      "  _warn_prf(average, modifier, msg_start, len(result))\n"
     ]
    },
    {
     "name": "stdout",
     "output_type": "stream",
     "text": [
      "Epoch 54/75, Train Loss: 1.2957, Val Loss: 1.5855, Val Acc: 0.5111, Val Prec: 0.5579, Val Recall: 0.5111, Val F1: 0.4944\n"
     ]
    },
    {
     "name": "stderr",
     "output_type": "stream",
     "text": [
      "Epoch 55\\75 [Training]: 100%|██████████| 310/310 [02:41<00:00,  1.92it/s]\n",
      "Epoch 55/75 [Validation]: 100%|██████████| 78/78 [00:38<00:00,  2.03it/s]\n",
      "c:\\Users\\boris\\anaconda3\\envs\\conda_env_24_25\\lib\\site-packages\\sklearn\\metrics\\_classification.py:1471: UndefinedMetricWarning: Precision is ill-defined and being set to 0.0 in labels with no predicted samples. Use `zero_division` parameter to control this behavior.\n",
      "  _warn_prf(average, modifier, msg_start, len(result))\n"
     ]
    },
    {
     "name": "stdout",
     "output_type": "stream",
     "text": [
      "Epoch 55/75, Train Loss: 1.2836, Val Loss: 1.5735, Val Acc: 0.5200, Val Prec: 0.5573, Val Recall: 0.5200, Val F1: 0.5072\n"
     ]
    },
    {
     "name": "stderr",
     "output_type": "stream",
     "text": [
      "Epoch 56\\75 [Training]: 100%|██████████| 310/310 [02:48<00:00,  1.84it/s]\n",
      "Epoch 56/75 [Validation]: 100%|██████████| 78/78 [00:36<00:00,  2.12it/s]\n",
      "c:\\Users\\boris\\anaconda3\\envs\\conda_env_24_25\\lib\\site-packages\\sklearn\\metrics\\_classification.py:1471: UndefinedMetricWarning: Precision is ill-defined and being set to 0.0 in labels with no predicted samples. Use `zero_division` parameter to control this behavior.\n",
      "  _warn_prf(average, modifier, msg_start, len(result))\n"
     ]
    },
    {
     "name": "stdout",
     "output_type": "stream",
     "text": [
      "Epoch 56/75, Train Loss: 1.2798, Val Loss: 1.5653, Val Acc: 0.5002, Val Prec: 0.5428, Val Recall: 0.5002, Val F1: 0.4883\n"
     ]
    },
    {
     "name": "stderr",
     "output_type": "stream",
     "text": [
      "Epoch 57\\75 [Training]: 100%|██████████| 310/310 [02:45<00:00,  1.88it/s]\n",
      "Epoch 57/75 [Validation]: 100%|██████████| 78/78 [00:36<00:00,  2.15it/s]\n"
     ]
    },
    {
     "name": "stdout",
     "output_type": "stream",
     "text": [
      "Epoch 57/75, Train Loss: 1.2703, Val Loss: 1.5908, Val Acc: 0.5087, Val Prec: 0.5306, Val Recall: 0.5087, Val F1: 0.4913\n"
     ]
    },
    {
     "name": "stderr",
     "output_type": "stream",
     "text": [
      "Epoch 58\\75 [Training]: 100%|██████████| 310/310 [02:41<00:00,  1.92it/s]\n",
      "Epoch 58/75 [Validation]: 100%|██████████| 78/78 [00:36<00:00,  2.11it/s]\n"
     ]
    },
    {
     "name": "stdout",
     "output_type": "stream",
     "text": [
      "Epoch 58/75, Train Loss: 1.2502, Val Loss: 1.6118, Val Acc: 0.5103, Val Prec: 0.5344, Val Recall: 0.5103, Val F1: 0.4978\n"
     ]
    },
    {
     "name": "stderr",
     "output_type": "stream",
     "text": [
      "Epoch 59\\75 [Training]: 100%|██████████| 310/310 [02:47<00:00,  1.85it/s]\n",
      "Epoch 59/75 [Validation]: 100%|██████████| 78/78 [00:38<00:00,  2.05it/s]\n",
      "c:\\Users\\boris\\anaconda3\\envs\\conda_env_24_25\\lib\\site-packages\\sklearn\\metrics\\_classification.py:1471: UndefinedMetricWarning: Precision is ill-defined and being set to 0.0 in labels with no predicted samples. Use `zero_division` parameter to control this behavior.\n",
      "  _warn_prf(average, modifier, msg_start, len(result))\n"
     ]
    },
    {
     "name": "stdout",
     "output_type": "stream",
     "text": [
      "Epoch 59/75, Train Loss: 1.2361, Val Loss: 1.5582, Val Acc: 0.5180, Val Prec: 0.5379, Val Recall: 0.5180, Val F1: 0.5045\n"
     ]
    },
    {
     "name": "stderr",
     "output_type": "stream",
     "text": [
      "Epoch 60\\75 [Training]: 100%|██████████| 310/310 [02:48<00:00,  1.84it/s]\n",
      "Epoch 60/75 [Validation]: 100%|██████████| 78/78 [00:37<00:00,  2.07it/s]\n",
      "c:\\Users\\boris\\anaconda3\\envs\\conda_env_24_25\\lib\\site-packages\\sklearn\\metrics\\_classification.py:1471: UndefinedMetricWarning: Precision is ill-defined and being set to 0.0 in labels with no predicted samples. Use `zero_division` parameter to control this behavior.\n",
      "  _warn_prf(average, modifier, msg_start, len(result))\n"
     ]
    },
    {
     "name": "stdout",
     "output_type": "stream",
     "text": [
      "Epoch 60/75, Train Loss: 1.2292, Val Loss: 1.5700, Val Acc: 0.5192, Val Prec: 0.5586, Val Recall: 0.5192, Val F1: 0.5058\n"
     ]
    },
    {
     "name": "stderr",
     "output_type": "stream",
     "text": [
      "Epoch 61\\75 [Training]: 100%|██████████| 310/310 [02:48<00:00,  1.84it/s]\n",
      "Epoch 61/75 [Validation]: 100%|██████████| 78/78 [00:37<00:00,  2.09it/s]\n"
     ]
    },
    {
     "name": "stdout",
     "output_type": "stream",
     "text": [
      "Epoch 61/75, Train Loss: 1.2158, Val Loss: 1.5648, Val Acc: 0.5156, Val Prec: 0.5567, Val Recall: 0.5156, Val F1: 0.5023\n"
     ]
    },
    {
     "name": "stderr",
     "output_type": "stream",
     "text": [
      "Epoch 62\\75 [Training]: 100%|██████████| 310/310 [02:49<00:00,  1.83it/s]\n",
      "Epoch 62/75 [Validation]: 100%|██████████| 78/78 [00:37<00:00,  2.06it/s]\n",
      "c:\\Users\\boris\\anaconda3\\envs\\conda_env_24_25\\lib\\site-packages\\sklearn\\metrics\\_classification.py:1471: UndefinedMetricWarning: Precision is ill-defined and being set to 0.0 in labels with no predicted samples. Use `zero_division` parameter to control this behavior.\n",
      "  _warn_prf(average, modifier, msg_start, len(result))\n"
     ]
    },
    {
     "name": "stdout",
     "output_type": "stream",
     "text": [
      "Epoch 62/75, Train Loss: 1.2025, Val Loss: 1.5879, Val Acc: 0.5131, Val Prec: 0.5246, Val Recall: 0.5131, Val F1: 0.5004\n"
     ]
    },
    {
     "name": "stderr",
     "output_type": "stream",
     "text": [
      "Epoch 63\\75 [Training]: 100%|██████████| 310/310 [02:55<00:00,  1.77it/s]\n",
      "Epoch 63/75 [Validation]: 100%|██████████| 78/78 [00:41<00:00,  1.86it/s]\n",
      "c:\\Users\\boris\\anaconda3\\envs\\conda_env_24_25\\lib\\site-packages\\sklearn\\metrics\\_classification.py:1471: UndefinedMetricWarning: Precision is ill-defined and being set to 0.0 in labels with no predicted samples. Use `zero_division` parameter to control this behavior.\n",
      "  _warn_prf(average, modifier, msg_start, len(result))\n"
     ]
    },
    {
     "name": "stdout",
     "output_type": "stream",
     "text": [
      "Epoch 63/75, Train Loss: 1.1963, Val Loss: 1.5619, Val Acc: 0.5127, Val Prec: 0.5486, Val Recall: 0.5127, Val F1: 0.4994\n"
     ]
    },
    {
     "name": "stderr",
     "output_type": "stream",
     "text": [
      "Epoch 64\\75 [Training]: 100%|██████████| 310/310 [03:10<00:00,  1.62it/s]\n",
      "Epoch 64/75 [Validation]: 100%|██████████| 78/78 [00:43<00:00,  1.81it/s]\n",
      "c:\\Users\\boris\\anaconda3\\envs\\conda_env_24_25\\lib\\site-packages\\sklearn\\metrics\\_classification.py:1471: UndefinedMetricWarning: Precision is ill-defined and being set to 0.0 in labels with no predicted samples. Use `zero_division` parameter to control this behavior.\n",
      "  _warn_prf(average, modifier, msg_start, len(result))\n"
     ]
    },
    {
     "name": "stdout",
     "output_type": "stream",
     "text": [
      "Epoch 64/75, Train Loss: 1.2005, Val Loss: 1.5219, Val Acc: 0.5285, Val Prec: 0.5562, Val Recall: 0.5285, Val F1: 0.5185\n"
     ]
    },
    {
     "name": "stderr",
     "output_type": "stream",
     "text": [
      "Epoch 65\\75 [Training]: 100%|██████████| 310/310 [03:10<00:00,  1.63it/s]\n",
      "Epoch 65/75 [Validation]: 100%|██████████| 78/78 [00:43<00:00,  1.78it/s]\n"
     ]
    },
    {
     "name": "stdout",
     "output_type": "stream",
     "text": [
      "Epoch 65/75, Train Loss: 1.1769, Val Loss: 1.5210, Val Acc: 0.5334, Val Prec: 0.5507, Val Recall: 0.5334, Val F1: 0.5197\n"
     ]
    },
    {
     "name": "stderr",
     "output_type": "stream",
     "text": [
      "Epoch 66\\75 [Training]: 100%|██████████| 310/310 [03:12<00:00,  1.61it/s]\n",
      "Epoch 66/75 [Validation]: 100%|██████████| 78/78 [00:41<00:00,  1.87it/s]\n"
     ]
    },
    {
     "name": "stdout",
     "output_type": "stream",
     "text": [
      "Epoch 66/75, Train Loss: 1.1594, Val Loss: 1.5746, Val Acc: 0.5293, Val Prec: 0.5548, Val Recall: 0.5293, Val F1: 0.5179\n"
     ]
    },
    {
     "name": "stderr",
     "output_type": "stream",
     "text": [
      "Epoch 67\\75 [Training]: 100%|██████████| 310/310 [03:08<00:00,  1.64it/s]\n",
      "Epoch 67/75 [Validation]: 100%|██████████| 78/78 [00:42<00:00,  1.84it/s]\n"
     ]
    },
    {
     "name": "stdout",
     "output_type": "stream",
     "text": [
      "Epoch 67/75, Train Loss: 1.1574, Val Loss: 1.5358, Val Acc: 0.5358, Val Prec: 0.5567, Val Recall: 0.5358, Val F1: 0.5246\n"
     ]
    },
    {
     "name": "stderr",
     "output_type": "stream",
     "text": [
      "Epoch 68\\75 [Training]: 100%|██████████| 310/310 [03:12<00:00,  1.61it/s]\n",
      "Epoch 68/75 [Validation]: 100%|██████████| 78/78 [00:43<00:00,  1.79it/s]\n"
     ]
    },
    {
     "name": "stdout",
     "output_type": "stream",
     "text": [
      "Epoch 68/75, Train Loss: 1.1644, Val Loss: 1.5195, Val Acc: 0.5410, Val Prec: 0.5746, Val Recall: 0.5410, Val F1: 0.5336\n"
     ]
    },
    {
     "name": "stderr",
     "output_type": "stream",
     "text": [
      "Epoch 69\\75 [Training]: 100%|██████████| 310/310 [03:11<00:00,  1.61it/s]\n",
      "Epoch 69/75 [Validation]: 100%|██████████| 78/78 [00:42<00:00,  1.85it/s]\n"
     ]
    },
    {
     "name": "stdout",
     "output_type": "stream",
     "text": [
      "Epoch 69/75, Train Loss: 1.1474, Val Loss: 1.5099, Val Acc: 0.5346, Val Prec: 0.5588, Val Recall: 0.5346, Val F1: 0.5243\n"
     ]
    },
    {
     "name": "stderr",
     "output_type": "stream",
     "text": [
      "Epoch 70\\75 [Training]: 100%|██████████| 310/310 [03:06<00:00,  1.66it/s]\n",
      "Epoch 70/75 [Validation]: 100%|██████████| 78/78 [00:39<00:00,  1.97it/s]\n"
     ]
    },
    {
     "name": "stdout",
     "output_type": "stream",
     "text": [
      "Epoch 70/75, Train Loss: 1.1282, Val Loss: 1.5290, Val Acc: 0.5419, Val Prec: 0.5646, Val Recall: 0.5419, Val F1: 0.5321\n"
     ]
    },
    {
     "name": "stderr",
     "output_type": "stream",
     "text": [
      "Epoch 71\\75 [Training]: 100%|██████████| 310/310 [03:12<00:00,  1.61it/s]\n",
      "Epoch 71/75 [Validation]: 100%|██████████| 78/78 [00:43<00:00,  1.80it/s]\n"
     ]
    },
    {
     "name": "stdout",
     "output_type": "stream",
     "text": [
      "Epoch 71/75, Train Loss: 1.1197, Val Loss: 1.5271, Val Acc: 0.5398, Val Prec: 0.5672, Val Recall: 0.5398, Val F1: 0.5307\n"
     ]
    },
    {
     "name": "stderr",
     "output_type": "stream",
     "text": [
      "Epoch 72\\75 [Training]: 100%|██████████| 310/310 [03:10<00:00,  1.62it/s]\n",
      "Epoch 72/75 [Validation]: 100%|██████████| 78/78 [00:43<00:00,  1.80it/s]\n"
     ]
    },
    {
     "name": "stdout",
     "output_type": "stream",
     "text": [
      "Epoch 72/75, Train Loss: 1.1084, Val Loss: 1.5370, Val Acc: 0.5317, Val Prec: 0.5535, Val Recall: 0.5317, Val F1: 0.5193\n"
     ]
    },
    {
     "name": "stderr",
     "output_type": "stream",
     "text": [
      "Epoch 73\\75 [Training]: 100%|██████████| 310/310 [02:52<00:00,  1.80it/s]\n",
      "Epoch 73/75 [Validation]: 100%|██████████| 78/78 [00:38<00:00,  2.04it/s]\n"
     ]
    },
    {
     "name": "stdout",
     "output_type": "stream",
     "text": [
      "Epoch 73/75, Train Loss: 1.0897, Val Loss: 1.4985, Val Acc: 0.5483, Val Prec: 0.5830, Val Recall: 0.5483, Val F1: 0.5382\n"
     ]
    },
    {
     "name": "stderr",
     "output_type": "stream",
     "text": [
      "Epoch 74\\75 [Training]: 100%|██████████| 310/310 [03:06<00:00,  1.66it/s]\n",
      "Epoch 74/75 [Validation]: 100%|██████████| 78/78 [00:41<00:00,  1.86it/s]\n"
     ]
    },
    {
     "name": "stdout",
     "output_type": "stream",
     "text": [
      "Epoch 74/75, Train Loss: 1.0984, Val Loss: 1.4709, Val Acc: 0.5475, Val Prec: 0.5761, Val Recall: 0.5475, Val F1: 0.5373\n"
     ]
    },
    {
     "name": "stderr",
     "output_type": "stream",
     "text": [
      "Epoch 75\\75 [Training]: 100%|██████████| 310/310 [03:08<00:00,  1.65it/s]\n",
      "Epoch 75/75 [Validation]: 100%|██████████| 78/78 [00:44<00:00,  1.76it/s]\n"
     ]
    },
    {
     "name": "stdout",
     "output_type": "stream",
     "text": [
      "Epoch 75/75, Train Loss: 1.0970, Val Loss: 1.5210, Val Acc: 0.5467, Val Prec: 0.5568, Val Recall: 0.5467, Val F1: 0.5361\n"
     ]
    }
   ],
   "source": [
    "# Запуск обучения и валидации. Пример, чтобы посмотреть на изменение\n",
    "train_losses, val_losses, val_metrics = train_and_evaluate(\n",
    "    vgg, criterion, optimizer, train_loader, val_loader, num_epochs=75, lr=lr) "
   ]
  },
  {
   "cell_type": "code",
   "execution_count": 204,
   "metadata": {},
   "outputs": [],
   "source": [
    "torch.save(vgg.state_dict(), 'final_vgg_75.pth')"
   ]
  },
  {
   "cell_type": "code",
   "execution_count": 44,
   "metadata": {},
   "outputs": [
    {
     "name": "stdout",
     "output_type": "stream",
     "text": [
      "Resuming training from epoch 75\n"
     ]
    },
    {
     "name": "stderr",
     "output_type": "stream",
     "text": [
      "Epoch 76\\100 [Training]: 100%|██████████| 310/310 [02:41<00:00,  1.92it/s]\n",
      "Epoch 76/100 [Validation]: 100%|██████████| 78/78 [00:38<00:00,  2.01it/s]\n"
     ]
    },
    {
     "name": "stdout",
     "output_type": "stream",
     "text": [
      "Epoch 76/100, Train Loss: 1.2280, Val Loss: 0.9335, Val Acc: 0.7153, Val Prec: 0.7461, Val Recall: 0.7153, Val F1: 0.7117\n"
     ]
    },
    {
     "name": "stderr",
     "output_type": "stream",
     "text": [
      "Epoch 77\\100 [Training]: 100%|██████████| 310/310 [03:01<00:00,  1.71it/s]\n",
      "Epoch 77/100 [Validation]: 100%|██████████| 78/78 [00:38<00:00,  2.04it/s]\n"
     ]
    },
    {
     "name": "stdout",
     "output_type": "stream",
     "text": [
      "Epoch 77/100, Train Loss: 1.2202, Val Loss: 0.9021, Val Acc: 0.7250, Val Prec: 0.7454, Val Recall: 0.7250, Val F1: 0.7217\n"
     ]
    },
    {
     "name": "stderr",
     "output_type": "stream",
     "text": [
      "Epoch 78\\100 [Training]: 100%|██████████| 310/310 [02:43<00:00,  1.89it/s]\n",
      "Epoch 78/100 [Validation]: 100%|██████████| 78/78 [00:37<00:00,  2.07it/s]\n"
     ]
    },
    {
     "name": "stdout",
     "output_type": "stream",
     "text": [
      "Epoch 78/100, Train Loss: 1.2339, Val Loss: 0.9236, Val Acc: 0.7133, Val Prec: 0.7358, Val Recall: 0.7133, Val F1: 0.7080\n"
     ]
    },
    {
     "name": "stderr",
     "output_type": "stream",
     "text": [
      "Epoch 79\\100 [Training]: 100%|██████████| 310/310 [02:49<00:00,  1.82it/s]\n",
      "Epoch 79/100 [Validation]: 100%|██████████| 78/78 [00:38<00:00,  2.04it/s]\n"
     ]
    },
    {
     "name": "stdout",
     "output_type": "stream",
     "text": [
      "Epoch 79/100, Train Loss: 1.2408, Val Loss: 0.9228, Val Acc: 0.7157, Val Prec: 0.7367, Val Recall: 0.7157, Val F1: 0.7129\n"
     ]
    },
    {
     "name": "stderr",
     "output_type": "stream",
     "text": [
      "Epoch 80\\100 [Training]: 100%|██████████| 310/310 [02:43<00:00,  1.90it/s]\n",
      "Epoch 80/100 [Validation]: 100%|██████████| 78/78 [00:37<00:00,  2.07it/s]\n"
     ]
    },
    {
     "name": "stdout",
     "output_type": "stream",
     "text": [
      "Epoch 80/100, Train Loss: 1.2438, Val Loss: 0.9289, Val Acc: 0.7165, Val Prec: 0.7412, Val Recall: 0.7165, Val F1: 0.7133\n"
     ]
    },
    {
     "name": "stderr",
     "output_type": "stream",
     "text": [
      "Epoch 81\\100 [Training]: 100%|██████████| 310/310 [02:43<00:00,  1.90it/s]\n",
      "Epoch 81/100 [Validation]: 100%|██████████| 78/78 [00:36<00:00,  2.12it/s]\n"
     ]
    },
    {
     "name": "stdout",
     "output_type": "stream",
     "text": [
      "Epoch 81/100, Train Loss: 1.2422, Val Loss: 0.9091, Val Acc: 0.7279, Val Prec: 0.7472, Val Recall: 0.7279, Val F1: 0.7251\n"
     ]
    },
    {
     "name": "stderr",
     "output_type": "stream",
     "text": [
      "Epoch 82\\100 [Training]: 100%|██████████| 310/310 [02:42<00:00,  1.91it/s]\n",
      "Epoch 82/100 [Validation]: 100%|██████████| 78/78 [00:38<00:00,  2.05it/s]\n"
     ]
    },
    {
     "name": "stdout",
     "output_type": "stream",
     "text": [
      "Epoch 82/100, Train Loss: 1.2421, Val Loss: 0.9364, Val Acc: 0.7080, Val Prec: 0.7252, Val Recall: 0.7080, Val F1: 0.7035\n"
     ]
    },
    {
     "name": "stderr",
     "output_type": "stream",
     "text": [
      "Epoch 83\\100 [Training]: 100%|██████████| 310/310 [02:42<00:00,  1.91it/s]\n",
      "Epoch 83/100 [Validation]: 100%|██████████| 78/78 [00:36<00:00,  2.11it/s]\n"
     ]
    },
    {
     "name": "stdout",
     "output_type": "stream",
     "text": [
      "Epoch 83/100, Train Loss: 1.2212, Val Loss: 0.9495, Val Acc: 0.7161, Val Prec: 0.7409, Val Recall: 0.7161, Val F1: 0.7101\n"
     ]
    },
    {
     "name": "stderr",
     "output_type": "stream",
     "text": [
      "Epoch 84\\100 [Training]: 100%|██████████| 310/310 [02:42<00:00,  1.90it/s]\n",
      "Epoch 84/100 [Validation]: 100%|██████████| 78/78 [00:36<00:00,  2.11it/s]\n"
     ]
    },
    {
     "name": "stdout",
     "output_type": "stream",
     "text": [
      "Epoch 84/100, Train Loss: 1.2400, Val Loss: 0.9271, Val Acc: 0.7327, Val Prec: 0.7536, Val Recall: 0.7327, Val F1: 0.7266\n"
     ]
    },
    {
     "name": "stderr",
     "output_type": "stream",
     "text": [
      "Epoch 85\\100 [Training]: 100%|██████████| 310/310 [02:40<00:00,  1.93it/s]\n",
      "Epoch 85/100 [Validation]: 100%|██████████| 78/78 [00:37<00:00,  2.10it/s]\n"
     ]
    },
    {
     "name": "stdout",
     "output_type": "stream",
     "text": [
      "Epoch 85/100, Train Loss: 1.2100, Val Loss: 0.9143, Val Acc: 0.7186, Val Prec: 0.7377, Val Recall: 0.7186, Val F1: 0.7138\n"
     ]
    },
    {
     "name": "stderr",
     "output_type": "stream",
     "text": [
      "Epoch 86\\100 [Training]: 100%|██████████| 310/310 [02:40<00:00,  1.93it/s]\n",
      "Epoch 86/100 [Validation]: 100%|██████████| 78/78 [00:37<00:00,  2.10it/s]\n"
     ]
    },
    {
     "name": "stdout",
     "output_type": "stream",
     "text": [
      "Epoch 86/100, Train Loss: 1.2476, Val Loss: 0.9375, Val Acc: 0.7214, Val Prec: 0.7378, Val Recall: 0.7214, Val F1: 0.7175\n"
     ]
    },
    {
     "name": "stderr",
     "output_type": "stream",
     "text": [
      "Epoch 87\\100 [Training]: 100%|██████████| 310/310 [02:43<00:00,  1.90it/s]\n",
      "Epoch 87/100 [Validation]: 100%|██████████| 78/78 [00:36<00:00,  2.14it/s]\n"
     ]
    },
    {
     "name": "stdout",
     "output_type": "stream",
     "text": [
      "Epoch 87/100, Train Loss: 1.2373, Val Loss: 0.9239, Val Acc: 0.7137, Val Prec: 0.7352, Val Recall: 0.7137, Val F1: 0.7096\n"
     ]
    },
    {
     "name": "stderr",
     "output_type": "stream",
     "text": [
      "Epoch 88\\100 [Training]: 100%|██████████| 310/310 [02:41<00:00,  1.91it/s]\n",
      "Epoch 88/100 [Validation]: 100%|██████████| 78/78 [00:36<00:00,  2.13it/s]\n"
     ]
    },
    {
     "name": "stdout",
     "output_type": "stream",
     "text": [
      "Epoch 88/100, Train Loss: 1.2455, Val Loss: 0.9180, Val Acc: 0.7129, Val Prec: 0.7298, Val Recall: 0.7129, Val F1: 0.7081\n"
     ]
    },
    {
     "name": "stderr",
     "output_type": "stream",
     "text": [
      "Epoch 89\\100 [Training]: 100%|██████████| 310/310 [02:44<00:00,  1.89it/s]\n",
      "Epoch 89/100 [Validation]: 100%|██████████| 78/78 [00:48<00:00,  1.61it/s]\n"
     ]
    },
    {
     "name": "stdout",
     "output_type": "stream",
     "text": [
      "Epoch 89/100, Train Loss: 1.2072, Val Loss: 0.9206, Val Acc: 0.7218, Val Prec: 0.7434, Val Recall: 0.7218, Val F1: 0.7176\n"
     ]
    },
    {
     "name": "stderr",
     "output_type": "stream",
     "text": [
      "Epoch 90\\100 [Training]: 100%|██████████| 310/310 [03:19<00:00,  1.55it/s]\n",
      "Epoch 90/100 [Validation]: 100%|██████████| 78/78 [00:50<00:00,  1.54it/s]\n"
     ]
    },
    {
     "name": "stdout",
     "output_type": "stream",
     "text": [
      "Epoch 90/100, Train Loss: 1.2157, Val Loss: 0.9459, Val Acc: 0.7133, Val Prec: 0.7394, Val Recall: 0.7133, Val F1: 0.7094\n"
     ]
    },
    {
     "name": "stderr",
     "output_type": "stream",
     "text": [
      "Epoch 91\\100 [Training]: 100%|██████████| 310/310 [03:12<00:00,  1.61it/s]\n",
      "Epoch 91/100 [Validation]: 100%|██████████| 78/78 [00:41<00:00,  1.88it/s]\n"
     ]
    },
    {
     "name": "stdout",
     "output_type": "stream",
     "text": [
      "Epoch 91/100, Train Loss: 1.2339, Val Loss: 0.9005, Val Acc: 0.7238, Val Prec: 0.7428, Val Recall: 0.7238, Val F1: 0.7198\n"
     ]
    },
    {
     "name": "stderr",
     "output_type": "stream",
     "text": [
      "Epoch 92\\100 [Training]: 100%|██████████| 310/310 [03:05<00:00,  1.67it/s]\n",
      "Epoch 92/100 [Validation]: 100%|██████████| 78/78 [00:48<00:00,  1.60it/s]\n"
     ]
    },
    {
     "name": "stdout",
     "output_type": "stream",
     "text": [
      "Epoch 92/100, Train Loss: 1.2234, Val Loss: 0.9530, Val Acc: 0.7165, Val Prec: 0.7434, Val Recall: 0.7165, Val F1: 0.7114\n"
     ]
    },
    {
     "name": "stderr",
     "output_type": "stream",
     "text": [
      "Epoch 93\\100 [Training]: 100%|██████████| 310/310 [03:13<00:00,  1.60it/s]\n",
      "Epoch 93/100 [Validation]: 100%|██████████| 78/78 [00:41<00:00,  1.86it/s]\n"
     ]
    },
    {
     "name": "stdout",
     "output_type": "stream",
     "text": [
      "Epoch 93/100, Train Loss: 1.2274, Val Loss: 0.9146, Val Acc: 0.7198, Val Prec: 0.7410, Val Recall: 0.7198, Val F1: 0.7152\n"
     ]
    },
    {
     "name": "stderr",
     "output_type": "stream",
     "text": [
      "Epoch 94\\100 [Training]: 100%|██████████| 310/310 [03:16<00:00,  1.58it/s]\n",
      "Epoch 94/100 [Validation]: 100%|██████████| 78/78 [00:45<00:00,  1.73it/s]\n"
     ]
    },
    {
     "name": "stdout",
     "output_type": "stream",
     "text": [
      "Epoch 94/100, Train Loss: 1.2476, Val Loss: 0.9382, Val Acc: 0.7113, Val Prec: 0.7298, Val Recall: 0.7113, Val F1: 0.7074\n"
     ]
    },
    {
     "name": "stderr",
     "output_type": "stream",
     "text": [
      "Epoch 95\\100 [Training]: 100%|██████████| 310/310 [03:26<00:00,  1.50it/s]\n",
      "Epoch 95/100 [Validation]: 100%|██████████| 78/78 [00:47<00:00,  1.63it/s]\n"
     ]
    },
    {
     "name": "stdout",
     "output_type": "stream",
     "text": [
      "Epoch 95/100, Train Loss: 1.2414, Val Loss: 0.9303, Val Acc: 0.7153, Val Prec: 0.7358, Val Recall: 0.7153, Val F1: 0.7104\n"
     ]
    },
    {
     "name": "stderr",
     "output_type": "stream",
     "text": [
      "Epoch 96\\100 [Training]: 100%|██████████| 310/310 [03:28<00:00,  1.49it/s]\n",
      "Epoch 96/100 [Validation]: 100%|██████████| 78/78 [00:46<00:00,  1.69it/s]\n"
     ]
    },
    {
     "name": "stdout",
     "output_type": "stream",
     "text": [
      "Epoch 96/100, Train Loss: 1.2372, Val Loss: 0.9394, Val Acc: 0.7169, Val Prec: 0.7390, Val Recall: 0.7169, Val F1: 0.7123\n"
     ]
    },
    {
     "name": "stderr",
     "output_type": "stream",
     "text": [
      "Epoch 97\\100 [Training]: 100%|██████████| 310/310 [03:24<00:00,  1.52it/s]\n",
      "Epoch 97/100 [Validation]: 100%|██████████| 78/78 [00:47<00:00,  1.64it/s]\n"
     ]
    },
    {
     "name": "stdout",
     "output_type": "stream",
     "text": [
      "Epoch 97/100, Train Loss: 1.2165, Val Loss: 0.9044, Val Acc: 0.7250, Val Prec: 0.7466, Val Recall: 0.7250, Val F1: 0.7215\n"
     ]
    },
    {
     "name": "stderr",
     "output_type": "stream",
     "text": [
      "Epoch 98\\100 [Training]: 100%|██████████| 310/310 [03:26<00:00,  1.50it/s]\n",
      "Epoch 98/100 [Validation]: 100%|██████████| 78/78 [00:47<00:00,  1.64it/s]\n"
     ]
    },
    {
     "name": "stdout",
     "output_type": "stream",
     "text": [
      "Epoch 98/100, Train Loss: 1.2428, Val Loss: 0.9298, Val Acc: 0.7230, Val Prec: 0.7391, Val Recall: 0.7230, Val F1: 0.7200\n"
     ]
    },
    {
     "name": "stderr",
     "output_type": "stream",
     "text": [
      "Epoch 99\\100 [Training]: 100%|██████████| 310/310 [02:53<00:00,  1.78it/s]\n",
      "Epoch 99/100 [Validation]: 100%|██████████| 78/78 [00:36<00:00,  2.11it/s]\n"
     ]
    },
    {
     "name": "stdout",
     "output_type": "stream",
     "text": [
      "Epoch 99/100, Train Loss: 1.2352, Val Loss: 0.9196, Val Acc: 0.7202, Val Prec: 0.7453, Val Recall: 0.7202, Val F1: 0.7151\n"
     ]
    },
    {
     "name": "stderr",
     "output_type": "stream",
     "text": [
      "Epoch 100\\100 [Training]: 100%|██████████| 310/310 [02:43<00:00,  1.89it/s]\n",
      "Epoch 100/100 [Validation]: 100%|██████████| 78/78 [00:38<00:00,  2.04it/s]"
     ]
    },
    {
     "name": "stdout",
     "output_type": "stream",
     "text": [
      "Epoch 100/100, Train Loss: 1.2260, Val Loss: 0.9258, Val Acc: 0.7262, Val Prec: 0.7480, Val Recall: 0.7262, Val F1: 0.7215\n"
     ]
    },
    {
     "name": "stderr",
     "output_type": "stream",
     "text": [
      "\n"
     ]
    }
   ],
   "source": [
    "# vgg = torch.load(\"final_vgg_75.pth\")\n",
    "\n",
    "train_losses, val_losses, val_metrics = train_and_evaluate(\n",
    "    vgg, criterion, optimizer, train_loader, val_loader, num_epochs=100, lr=lr, checkpoint_path='./checkpoints/model_epoch75_acc0.5467.pth')\n"
   ]
  },
  {
   "cell_type": "code",
   "execution_count": 45,
   "metadata": {},
   "outputs": [
    {
     "name": "stderr",
     "output_type": "stream",
     "text": [
      "100%|██████████| 166/166 [00:50<00:00,  3.29it/s]"
     ]
    },
    {
     "name": "stdout",
     "output_type": "stream",
     "text": [
      "Предсказания сохранены в файл test_predictions_100.csv\n"
     ]
    },
    {
     "name": "stderr",
     "output_type": "stream",
     "text": [
      "\n"
     ]
    }
   ],
   "source": [
    "# После обучения производим предсказания и сохраняем их в требуемый формат\n",
    "output_file = \"test_predictions_100.csv\"\n",
    "predict_and_save(vgg, test_loader, output_file) "
   ]
  },
  {
   "cell_type": "code",
   "execution_count": 46,
   "metadata": {},
   "outputs": [],
   "source": [
    "# Функция для визуализации графика ошибок и метрик\n",
    "def visualize_model_results(train_losses, val_losses, val_metrics, epochs):\n",
    "    val_acc = [m[0] for m in val_metrics] \n",
    "    val_f1 = [m[3] for m in val_metrics]\n",
    "\n",
    "    plt.figure(figsize=(12, 6)) \n",
    "    plt.subplot(1, 2, 1) \n",
    "    plt.plot(range(0, epochs), train_losses, label=\"Train Loss\")\n",
    "    plt.plot(range(0, epochs), val_losses, label=\"Val Loss\")\n",
    "    plt.xlabel(\"Epoch\") \n",
    "    plt.ylabel(\"Loss\") \n",
    "    plt.title(\"Training Loss\") \n",
    "    plt.legend() \n",
    "\n",
    "    plt.subplot(1, 2, 2) \n",
    "    plt.plot(val_acc, label=\"Validation Accuracy\") \n",
    "    plt.plot(val_f1, label=\"Validation F1-Score\") \n",
    "    plt.xlabel(\"Epoch\") \n",
    "    plt.ylabel(\"Value\") \n",
    "    plt.title(\"Validation Metrics\") \n",
    "    plt.legend() \n",
    "\n",
    "    plt.tight_layout() \n",
    "    plt.show()"
   ]
  },
  {
   "cell_type": "code",
   "execution_count": 48,
   "metadata": {},
   "outputs": [
    {
     "data": {
      "image/png": "[encoded data removed]",
      "text/plain": [
       "<Figure size 1200x600 with 2 Axes>"
      ]
     },
     "metadata": {},
     "output_type": "display_data"
    }
   ],
   "source": [
    "# Визуализация\n",
    "\n",
    "visualize_model_results(train_losses, val_losses, val_metrics, epochs=25)"
   ]
  },
  {
   "cell_type": "code",
   "execution_count": 49,
   "metadata": {},
   "outputs": [],
   "source": [
    "torch.save(vgg.state_dict(), 'final_vgg_100.pth')"
   ]
  },
  {
   "cell_type": "code",
   "execution_count": null,
   "metadata": {},
   "outputs": [],
   "source": []
  }
 ],
 "metadata": {
  "kernelspec": {
   "display_name": "conda_env_24_25",
   "language": "python",
   "name": "python3"
  },
  "language_info": {
   "codemirror_mode": {
    "name": "ipython",
    "version": 3
   },
   "file_extension": ".py",
   "mimetype": "text/x-python",
   "name": "python",
   "nbconvert_exporter": "python",
   "pygments_lexer": "ipython3",
   "version": "3.10.14"
  }
 },
 "nbformat": 4,
 "nbformat_minor": 2
}
